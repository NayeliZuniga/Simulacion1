{
  "nbformat": 4,
  "nbformat_minor": 0,
  "metadata": {
    "colab": {
      "provenance": [],
      "authorship_tag": "ABX9TyMMfJgwS1xi9nEKd184OKVr",
      "include_colab_link": true
    },
    "kernelspec": {
      "name": "python3",
      "display_name": "Python 3"
    },
    "language_info": {
      "name": "python"
    }
  },
  "cells": [
    {
      "cell_type": "markdown",
      "metadata": {
        "id": "view-in-github",
        "colab_type": "text"
      },
      "source": [
        "<a href=\"https://colab.research.google.com/github/NayeliZuniga/Simulacion1/blob/main/Monte_Carlo_(Media_muestral).ipynb\" target=\"_parent\"><img src=\"https://colab.research.google.com/assets/colab-badge.svg\" alt=\"Open In Colab\"/></a>"
      ]
    },
    {
      "cell_type": "markdown",
      "source": [
        "Monte Carlo **Crudo** (Media Muestral)"
      ],
      "metadata": {
        "id": "q84a4WbVmJwm"
      }
    },
    {
      "cell_type": "markdown",
      "source": [
        "I **=** $∫ g(x) dx$ **=** $∫ w(x) ⋅ f(x) dx$ **=** $E(g(x))$ **≈** $(\\frac{1}{N}) ⋅ \\sum g(x_i)$\n",
        "\n",
        "\n",
        "Donde:\n",
        "* $x_i \\sim U(a,b)$\n",
        "* $w(x)=g(x)⋅(b-a)$\n",
        "* $f(x)=\\frac{1}{b-a} → U(a,b)$\n",
        "\n",
        "La integral transformada puede interpretarse como un multiplo del valor esperado de $g(x)$ bajo la distribucion uniforme: $E(g(X))=\\frac{I}{b-a}$ con $X \\sim Unif(a,b)$. Si tomamos una muestra de numeros pseudoaleatorios uniformemente distribuidos, digamos $X_1,...,X_N \\sim Unif(a, b)$, por la ley de los grandes numeros. Para N sucientemente grande tendremos que, con probabilidad 1: $\\frac{1}{N}\\sum_{i=1}^N g(X_i) \\to E(g(X))=\\frac{I}{b-a}$"
      ],
      "metadata": {
        "id": "6-NBtChgmYkF"
      }
    },
    {
      "cell_type": "markdown",
      "source": [
        "Se importan las librerias necesarias"
      ],
      "metadata": {
        "id": "3iZ_gJZozM13"
      }
    },
    {
      "cell_type": "code",
      "source": [
        "import random\n",
        "import math\n",
        "import matplotlib.pyplot as plot\n",
        "import numpy\n",
        "from scipy.integrate import quad"
      ],
      "metadata": {
        "id": "vb49REXBvNdU"
      },
      "execution_count": 45,
      "outputs": []
    },
    {
      "cell_type": "markdown",
      "source": [
        "Se define la funcion de la cual se quiere aproximar la integral"
      ],
      "metadata": {
        "id": "ZDKVc_-LzSkw"
      }
    },
    {
      "cell_type": "code",
      "source": [
        "def g(x):\n",
        "  x=math.sqrt(math.atan(x))\n",
        "  return x"
      ],
      "metadata": {
        "id": "XkmxFzJevUKJ"
      },
      "execution_count": 46,
      "outputs": []
    },
    {
      "cell_type": "markdown",
      "source": [
        "Consideremos el metodo de Monte Carlo de la Media Muestral"
      ],
      "metadata": {
        "id": "pGI9pmczzaE5"
      }
    },
    {
      "cell_type": "code",
      "execution_count": 48,
      "metadata": {
        "id": "4td8xdrRmE01"
      },
      "outputs": [],
      "source": [
        "def montecarlo_crudo(a, b, n):        #a & b:intervalos de integracion\n",
        "  al=[]                               #lista para la secuencia {U_i}_{i=1}^n ~ U(0,1)\n",
        "  x=[]\n",
        "  gx=[]                               #lista para la evaluiacion de x\n",
        "  for i in range(n):\n",
        "  #secuencia {U_i}_{i=1}^n ~ U(0,1)\n",
        "    al.append(random.uniform(a,b))\n",
        "  #x_i= a + U_i * (b-a)\n",
        "    x.append(a+(al[i]*(b-a)))\n",
        "  #Evaluacion de los x en la funcion\n",
        "    gx.append(g(x[i]))\n",
        "  #Estimador\n",
        "  teta=(b-a)*sum(gx)\n",
        "  return teta/n\n"
      ]
    },
    {
      "cell_type": "markdown",
      "source": [
        "Aplicandolo"
      ],
      "metadata": {
        "id": "OCdJJ3v50-pX"
      }
    },
    {
      "cell_type": "code",
      "source": [
        "montecarlo_crudo(0,1,1000)"
      ],
      "metadata": {
        "colab": {
          "base_uri": "https://localhost:8080/"
        },
        "id": "OYB0PI7c2PTX",
        "outputId": "7f1ea848-f990-4d73-b3f9-400ab32129ba"
      },
      "execution_count": 49,
      "outputs": [
        {
          "output_type": "execute_result",
          "data": {
            "text/plain": [
              "0.6302520028442129"
            ]
          },
          "metadata": {},
          "execution_count": 49
        }
      ]
    },
    {
      "cell_type": "code",
      "source": [
        "#Función que permite guardar la aproximacion de la integral segun incrementa el nunmero de iteraciones\n",
        "def experimento(k,a,b):                         #k:numero de iteraciones; a&b: intervalos de integracion\n",
        "  evolucion=[]                                  #Guarda la aprox por iteracion\n",
        "  for i in range(k):\n",
        "    evolucion.append(montecarlo_crudo(a,b,i+1))\n",
        "  plot.plot(evolucion)                          #grafica los cambios en la aproximación\n",
        "  aprox=evolucion[-1]                           #retoma la ultima aproximacion\n",
        "  integral=quad(g,a,b)                          #calcula la integral exacta\n",
        "  errabs=abs(aprox - integral[0])               #calculo del err absoluto\n",
        "  errrel=abs(errabs/(integral[0]))*100          #calculo del err relartivo\n",
        "  print(f\"La aproximacion es {aprox}, con un error absoluto de {errabs} y uno relativo de {errrel} %\")\n",
        "  return evolucion\n",
        "\n",
        "L=experimento(1000,0,1)\n",
        "plot.axhline(y=numpy.mean(L), color='g')\n",
        "plot.axhline(y=(numpy.mean(L)+numpy.std(L)), color='r')\n",
        "plot.axhline(y=(numpy.mean(L)-numpy.std(L)), color='r')"
      ],
      "metadata": {
        "id": "xbcueXKUsnqD",
        "colab": {
          "base_uri": "https://localhost:8080/",
          "height": 465
        },
        "outputId": "77c6fc62-e18b-4f94-abb6-9e799c6b6c03"
      },
      "execution_count": 87,
      "outputs": [
        {
          "output_type": "stream",
          "name": "stdout",
          "text": [
            "La aproximacion es 0.6324771172861694, con un error absoluto de 0.002653773078196031 y uno relativo de 0.42135197156486015 %\n"
          ]
        },
        {
          "output_type": "execute_result",
          "data": {
            "text/plain": [
              "<matplotlib.lines.Line2D at 0x7b8080af1350>"
            ]
          },
          "metadata": {},
          "execution_count": 87
        },
        {
          "output_type": "display_data",
          "data": {
            "text/plain": [
              "<Figure size 640x480 with 1 Axes>"
            ],
            "image/png": "[encoded data removed]"
          },
          "metadata": {}
        }
      ]
    }
  ]
}
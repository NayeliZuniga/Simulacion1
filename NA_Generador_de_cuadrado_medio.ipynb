{
  "nbformat": 4,
  "nbformat_minor": 0,
  "metadata": {
    "colab": {
      "provenance": [],
      "authorship_tag": "ABX9TyNXJ6c31UMhj39Wei+WBVha",
      "include_colab_link": true
    },
    "kernelspec": {
      "name": "python3",
      "display_name": "Python 3"
    },
    "language_info": {
      "name": "python"
    }
  },
  "cells": [
    {
      "cell_type": "markdown",
      "metadata": {
        "id": "view-in-github",
        "colab_type": "text"
      },
      "source": [
        "<a href=\"https://colab.research.google.com/github/NayeliZuniga/Simulacion1/blob/main/NA_Generador_de_cuadrado_medio.ipynb\" target=\"_parent\"><img src=\"https://colab.research.google.com/assets/colab-badge.svg\" alt=\"Open In Colab\"/></a>"
      ]
    },
    {
      "cell_type": "markdown",
      "source": [
        "**Generador de cuadrado medio**"
      ],
      "metadata": {
        "id": "KKQmxXIaRWBP"
      }
    },
    {
      "cell_type": "code",
      "execution_count": 8,
      "metadata": {
        "colab": {
          "base_uri": "https://localhost:8080/"
        },
        "id": "zfYHQagIMoXW",
        "outputId": "03fbed89-57e8-4de3-fc4e-0c4345f93509"
      },
      "outputs": [
        {
          "output_type": "stream",
          "name": "stdout",
          "text": [
            "Error, el ciclo de vida es de 42\n",
            "╭─────┬──────┬───────────╮\n",
            "│   n │    x │    x_norm │\n",
            "├─────┼──────┼───────────┤\n",
            "│   0 │ 1938 │ 0.226455  │\n",
            "│   1 │ 7558 │ 0.88315   │\n",
            "│   2 │ 1233 │ 0.144076  │\n",
            "│   3 │ 5202 │ 0.607852  │\n",
            "│   4 │  608 │ 0.0710446 │\n",
            "│   5 │ 3696 │ 0.431877  │\n",
            "│   6 │ 6604 │ 0.771676  │\n",
            "│   7 │ 6128 │ 0.716055  │\n",
            "│   8 │ 5523 │ 0.645361  │\n",
            "│   9 │ 5035 │ 0.588338  │\n",
            "│  10 │ 3512 │ 0.410376  │\n",
            "│  11 │ 3341 │ 0.390395  │\n",
            "│  12 │ 1622 │ 0.18953   │\n",
            "│  13 │ 6308 │ 0.737088  │\n",
            "│  14 │ 7908 │ 0.924048  │\n",
            "│  15 │ 5364 │ 0.626782  │\n",
            "│  16 │ 7724 │ 0.902547  │\n",
            "│  17 │ 6601 │ 0.771325  │\n",
            "│  18 │ 5732 │ 0.669783  │\n",
            "│  19 │ 8558 │ 1         │\n",
            "│  20 │ 2393 │ 0.279621  │\n",
            "│  21 │ 7264 │ 0.848796  │\n",
            "│  22 │ 7656 │ 0.894602  │\n",
            "│  23 │ 6143 │ 0.717808  │\n",
            "│  24 │ 7364 │ 0.860481  │\n",
            "│  25 │ 2284 │ 0.266885  │\n",
            "│  26 │ 2166 │ 0.253097  │\n",
            "│  27 │ 6915 │ 0.808016  │\n",
            "│  28 │ 8172 │ 0.954896  │\n",
            "│  29 │ 7815 │ 0.913181  │\n",
            "│  30 │  742 │ 0.0867025 │\n",
            "│  31 │ 5505 │ 0.643258  │\n",
            "│  32 │ 3050 │ 0.356392  │\n",
            "│  33 │ 3025 │ 0.35347   │\n",
            "│  34 │ 1506 │ 0.175976  │\n",
            "│  35 │ 2680 │ 0.313157  │\n",
            "│  36 │ 1824 │ 0.213134  │\n",
            "│  37 │ 3269 │ 0.381982  │\n",
            "│  38 │ 6863 │ 0.80194   │\n",
            "│  39 │ 1007 │ 0.117668  │\n",
            "│  40 │  140 │ 0.016359  │\n",
            "│  41 │    0 │ 0         │\n",
            "╰─────┴──────┴───────────╯\n"
          ]
        }
      ],
      "source": [
        "import tabulate   #Librerias\n",
        "def cuadradomedio(x0,k):    #Funcion con parametros (semilla, No. Iteraciones)\n",
        "  lista=[x0]                #Lista anexando la semilla\n",
        "  x=x0\n",
        "  normalizado=[]            #Lista para los numeros normalizados\n",
        "  for i in range(k):        #Ciclado para acompletar las iteraciones\n",
        "    if len(str(x))>=3:      #El numero de la ultima iteración debe tener al menos 3 cifras\n",
        "      x=lista[i]**2         #Eleva al cuadrado\n",
        "      lista.append(int(str(x)[len(str(x))-6:len(str(x))-2].zfill(4))) #agrega al listado la cadena cortada y acompletada con ceros como entero\n",
        "    else:\n",
        "      lista.pop()           #No cumplio, por lo que es retirado el cero entero que se agrego\n",
        "      print(\"Error, el ciclo de vida es de\",i)  #Indica donde se rompio, lo que seria su ciclo de vida\n",
        "      break\n",
        "  for j in range(len(lista)):#De los elementos que cumplen ahora se normalizan\n",
        "    normalizado.append((lista[j]-min(lista))/(max(lista)-min(lista)))#Se usa la regla \"(X-min)/(max-min)\" y se añade a los normalizados\n",
        "  print(tabulate.tabulate({\"n\": list(range(i)),\"x\": lista, \"x_norm\": normalizado},#Imprime la tabla, leyendola del diccionario para los encabezados\n",
        "                          headers=\"keys\",tablefmt=\"rounded_outline\"))\n",
        "\n",
        "cuadradomedio(1938,50)"
      ]
    }
  ]
}
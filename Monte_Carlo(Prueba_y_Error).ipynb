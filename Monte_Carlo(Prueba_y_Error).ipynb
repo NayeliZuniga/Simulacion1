{
  "nbformat": 4,
  "nbformat_minor": 0,
  "metadata": {
    "colab": {
      "provenance": [],
      "include_colab_link": true
    },
    "kernelspec": {
      "name": "python3",
      "display_name": "Python 3"
    },
    "language_info": {
      "name": "python"
    }
  },
  "cells": [
    {
      "cell_type": "markdown",
      "metadata": {
        "id": "view-in-github",
        "colab_type": "text"
      },
      "source": [
        "<a href=\"https://colab.research.google.com/github/NayeliZuniga/Simulacion1/blob/main/Monte_Carlo(Prueba_y_Error).ipynb\" target=\"_parent\"><img src=\"https://colab.research.google.com/assets/colab-badge.svg\" alt=\"Open In Colab\"/></a>"
      ]
    },
    {
      "cell_type": "markdown",
      "source": [
        "Monte Carlo **Prueba y Error**"
      ],
      "metadata": {
        "id": "9vJufDthnvuX"
      }
    },
    {
      "cell_type": "markdown",
      "source": [
        "A consideraciones del articulo se sabe\n",
        "1. Generar una secuencia de {U_i}_{i=1}^2n ~ U(0,1)\n",
        "2. Parejas ordenadas (U_i , U_{n+1}) para i=1,...,n\n",
        "3. X_i= a + U_i⋅(b-a)\n",
        "para i=1,...,n\n",
        "\n",
        "Donde:\n",
        "* a=limite inferior de la integral\n",
        "* b=limite superior de la integral\n",
        "4. f(X_i)\n",
        "5. Contar los aciertos n_a tales que f(x_i)>c⋅U_{n+1}\n",
        "\n",
        "\n",
        "Donde:\n",
        "* c=valor que acota la funcion en todo el intervalo de integración\n",
        "\n",
        "6. Estimar I calculando la media muestral I ≈ θ=c(b-a)(n_a/n)"
      ],
      "metadata": {
        "id": "QJzamONYpkRv"
      }
    },
    {
      "cell_type": "markdown",
      "source": [
        "Se hace el planteamiento solo de\n",
        "I **=** *∫ f(x) dx* **≈** n/N"
      ],
      "metadata": {
        "id": "B4PO8UqSnhYb"
      }
    },
    {
      "cell_type": "markdown",
      "source": [
        "Importar las librerias necesarias"
      ],
      "metadata": {
        "id": "Mq2tCXUbn3Gh"
      }
    },
    {
      "cell_type": "code",
      "source": [
        "import numpy as np\n",
        "import random as rd\n",
        "import matplotlib.pyplot as plt\n",
        "from scipy.integrate import quad"
      ],
      "metadata": {
        "id": "v2X6w0gWYTCe"
      },
      "execution_count": 7,
      "outputs": []
    },
    {
      "cell_type": "markdown",
      "source": [
        "Definir la funcion a revisar"
      ],
      "metadata": {
        "id": "WINbeyCRn5yh"
      }
    },
    {
      "cell_type": "code",
      "source": [
        "def f(x):\n",
        " return np.sqrt(np.arctan(x))"
      ],
      "metadata": {
        "id": "GqtnSJbYn_c5"
      },
      "execution_count": 3,
      "outputs": []
    },
    {
      "cell_type": "code",
      "execution_count": null,
      "metadata": {
        "id": "80-1QOMfV-bz",
        "collapsed": true
      },
      "outputs": [],
      "source": [
        "def espacio(a,b,p):   #a:limite inferior; b:limite superior;  p:particiones en x para graficar la función\n",
        "  x = np.linspace(a,b,p)\n",
        "  y = f(x)\n",
        "  u1=rd.random()\n",
        "  u2=rd.random()\n",
        "  plt.plot(x,y)\n",
        "  plt.axhline(f(a), color = \"red\")\n",
        "  plt.axvline(a, color = \"red\")\n",
        "  plt.scatter (u1,u2, color=\"green\")\n",
        "\n",
        "espacio(1,0,400)"
      ]
    },
    {
      "cell_type": "code",
      "source": [
        "def dardos (n):\n",
        " exitos=0\n",
        " for i in range(n):\n",
        "  u1=rd.random()\n",
        "  u2=rd.random()\n",
        "  if u2<= f(u1):\n",
        "   exitos+=1\n",
        " prob = exitos/n\n",
        " return prob"
      ],
      "metadata": {
        "id": "mqcDcmS2ZWTU"
      },
      "execution_count": 5,
      "outputs": []
    },
    {
      "cell_type": "code",
      "source": [
        "def experimento(m,a,b):\n",
        " lista=[]\n",
        " for i in range(m):\n",
        "  d=dardos(i+1)\n",
        "  lista.append(d)\n",
        " plt.plot(lista)\n",
        " plt.axhline(np.mean(lista),color='g')\n",
        " plt.axhline(np.mean(lista)+np.std(lista),color='r')\n",
        " plt.axhline(np.mean(lista)-np.std(lista),color='r')\n",
        " aprox=lista[-1]\n",
        " integral=quad(f,a,b)\n",
        " errabs=abs(aprox - integral[0])\n",
        " errrel=abs(errabs/(integral[0]))*100\n",
        " print(f\"La aproximacion es {aprox}, con un error absoluto de {errabs} y uno relativo de {errrel} %\")\n",
        " print(f\"Con un intervalo de error que considera [{np.mean(lista)-np.std(lista)}<={np.mean(lista)}<={np.mean(lista)+np.std(lista)}]\")\n"
      ],
      "metadata": {
        "id": "sVKxkdiTaWAr"
      },
      "execution_count": 23,
      "outputs": []
    },
    {
      "cell_type": "code",
      "source": [
        "experimento(1000,0,1)"
      ],
      "metadata": {
        "colab": {
          "base_uri": "https://localhost:8080/",
          "height": 465
        },
        "id": "UAuaFiSca41b",
        "outputId": "9f037d28-6694-40d3-9b2c-c2935cac3220"
      },
      "execution_count": 26,
      "outputs": [
        {
          "output_type": "stream",
          "name": "stdout",
          "text": [
            "La aproximacion es 0.646, con un error absoluto de 0.01617665579202665 y uno relativo de 2.568443348566161 %\n",
            "Con un intervalo de error que considera [0.5793579813026224<=0.6280576964597876<=0.6767574116169528]\n"
          ]
        },
        {
          "output_type": "display_data",
          "data": {
            "text/plain": [
              "<Figure size 640x480 with 1 Axes>"
            ],
            "image/png": "[encoded data removed]"
          },
          "metadata": {}
        }
      ]
    }
  ]
}
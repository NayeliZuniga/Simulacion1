{
  "nbformat": 4,
  "nbformat_minor": 0,
  "metadata": {
    "colab": {
      "provenance": [],
      "authorship_tag": "ABX9TyMuornAVe/oT2+SmbaCkjfV",
      "include_colab_link": true
    },
    "kernelspec": {
      "name": "python3",
      "display_name": "Python 3"
    },
    "language_info": {
      "name": "python"
    }
  },
  "cells": [
    {
      "cell_type": "markdown",
      "metadata": {
        "id": "view-in-github",
        "colab_type": "text"
      },
      "source": [
        "<a href=\"https://colab.research.google.com/github/NayeliZuniga/Simulacion1/blob/main/N%C3%BAmeros_Aleatorios.ipynb\" target=\"_parent\"><img src=\"https://colab.research.google.com/assets/colab-badge.svg\" alt=\"Open In Colab\"/></a>"
      ]
    },
    {
      "cell_type": "markdown",
      "source": [
        "Números Aleatorios.\n",
        "\n",
        "->Generador Congruencial"
      ],
      "metadata": {
        "id": "iyuHJdXTca-n"
      }
    },
    {
      "cell_type": "markdown",
      "source": [
        "a=4\n",
        "c=7\n",
        "m=22\n",
        "x_0=3\n",
        "k=10\n"
      ],
      "metadata": {
        "id": "ezvypazUeEYv"
      }
    },
    {
      "cell_type": "code",
      "source": [
        "def gen_congruencial(x,a,c,m,k):\n",
        "  print(0,x,x/m)\n",
        "  for(i) in range(k):\n",
        "    x=(a*x+c)%22\n",
        "    print(i+1,x,x/m)\n",
        "gen_congruencial(3,4,7,22,25)"
      ],
      "metadata": {
        "colab": {
          "base_uri": "https://localhost:8080/"
        },
        "id": "ZBhi3GJ8b4WP",
        "outputId": "d11e9ac8-92e7-400d-8f1f-783cc4f3c656"
      },
      "execution_count": 91,
      "outputs": [
        {
          "output_type": "stream",
          "name": "stdout",
          "text": [
            "0 3 0.13636363636363635\n",
            "1 19 0.8636363636363636\n",
            "2 17 0.7727272727272727\n",
            "3 9 0.4090909090909091\n",
            "4 21 0.9545454545454546\n",
            "5 3 0.13636363636363635\n",
            "6 19 0.8636363636363636\n",
            "7 17 0.7727272727272727\n",
            "8 9 0.4090909090909091\n",
            "9 21 0.9545454545454546\n",
            "10 3 0.13636363636363635\n",
            "11 19 0.8636363636363636\n",
            "12 17 0.7727272727272727\n",
            "13 9 0.4090909090909091\n",
            "14 21 0.9545454545454546\n",
            "15 3 0.13636363636363635\n",
            "16 19 0.8636363636363636\n",
            "17 17 0.7727272727272727\n",
            "18 9 0.4090909090909091\n",
            "19 21 0.9545454545454546\n",
            "20 3 0.13636363636363635\n",
            "21 19 0.8636363636363636\n",
            "22 17 0.7727272727272727\n",
            "23 9 0.4090909090909091\n",
            "24 21 0.9545454545454546\n",
            "25 3 0.13636363636363635\n"
          ]
        }
      ]
    },
    {
      "cell_type": "markdown",
      "source": [
        "a=4\n",
        "c=7\n",
        "m=22\n",
        "x_0=3\n",
        "\n",
        "x_{n+1}=(a*x_n+c)*mod(m)"
      ],
      "metadata": {
        "id": "jgNat65Wb5D2"
      }
    }
  ]
}
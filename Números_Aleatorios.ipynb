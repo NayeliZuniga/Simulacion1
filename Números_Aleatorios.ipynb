{
  "nbformat": 4,
  "nbformat_minor": 0,
  "metadata": {
    "colab": {
      "provenance": [],
      "authorship_tag": "ABX9TyPUnRpsZHUQ4HjVB6XQfA2o",
      "include_colab_link": true
    },
    "kernelspec": {
      "name": "python3",
      "display_name": "Python 3"
    },
    "language_info": {
      "name": "python"
    }
  },
  "cells": [
    {
      "cell_type": "markdown",
      "metadata": {
        "id": "view-in-github",
        "colab_type": "text"
      },
      "source": [
        "<a href=\"https://colab.research.google.com/github/NayeliZuniga/Simulacion1/blob/main/N%C3%BAmeros_Aleatorios.ipynb\" target=\"_parent\"><img src=\"https://colab.research.google.com/assets/colab-badge.svg\" alt=\"Open In Colab\"/></a>"
      ]
    },
    {
      "cell_type": "markdown",
      "source": [
        "***Números Aleatorios.***\n",
        "\n",
        "**->Generador Congruencial**\n",
        "\n",
        "x_{n+1}=(ax_n+c)mod(m)"
      ],
      "metadata": {
        "id": "iyuHJdXTca-n"
      }
    },
    {
      "cell_type": "markdown",
      "source": [
        "Ejemplo con los valores:\n",
        "*   a=4\n",
        "*   c=7\n",
        "*  m=22\n",
        "*  x_0=3\n",
        "*  k=10\n",
        "\n",
        "\n",
        "\n"
      ],
      "metadata": {
        "id": "ezvypazUeEYv"
      }
    },
    {
      "cell_type": "code",
      "source": [
        "###Importar lo necesario\n",
        "import tabulate\n",
        "\n",
        "###Definir la funcion del generador\n",
        "def gen_congruencial(x,a,c,m,k):\n",
        "  x0=[x]                                  #valores de x, incluyendo la semilla\n",
        "  xi=[x/m]                                #valores de x/m, incluyendo la operacion con la semilla\n",
        "  vistos={}                               #indice del ciclo \"x: iteracion\"\n",
        "  vistos[x]=0                             # iteración donde aparece el valor inicialmente\n",
        "  ciclo_longitud = None\n",
        "\n",
        "###Valores aleatorios hasta el ciclo o las iteraciones indicadas (lo que pase primero)\n",
        "  for(i) in range(k+1):                     #contador de iteraciones\n",
        "    x=(a*x+c)%m                           #forma del generador congruencial\n",
        "    x0.append(x)                          #incrementar x nuevos a la lista\n",
        "    xi.append(x/m)                        #incrementar x normalizados nvos a la lista\n",
        "\n",
        "    if x in vistos:                       #verifica repeticion\n",
        "      ciclo_longitud = i - vistos[x]      #longitud del ciclo hast ala repeticion\n",
        "      break\n",
        "    else:\n",
        "      vistos[x] = i\n",
        "\n",
        "###Imprimir tabla\n",
        "  print(tabulate.tabulate({\"n\": list(range(len(x0))),\"x\": x0, \"x/m\": xi}, headers=\"keys\",tablefmt=\"rounded_outline\"))\n",
        "\n",
        "###Ciclo detectado\n",
        "  if ciclo_longitud is not None:\n",
        "      print(f\"Ciclo de vida: {ciclo_longitud+1}\")\n",
        "  else:\n",
        "      print(\"No hay un ciclo dentro de las iteraciones\")\n",
        "\n",
        "###Llamado de la función\n",
        "gen_congruencial(3,4,7,22,10)"
      ],
      "metadata": {
        "colab": {
          "base_uri": "https://localhost:8080/"
        },
        "id": "ZBhi3GJ8b4WP",
        "outputId": "ff56253f-487f-466f-9d98-dd4609ee1318"
      },
      "execution_count": 6,
      "outputs": [
        {
          "output_type": "stream",
          "name": "stdout",
          "text": [
            "╭─────┬─────┬──────────╮\n",
            "│   n │   x │      x/m │\n",
            "├─────┼─────┼──────────┤\n",
            "│   0 │   3 │ 0.136364 │\n",
            "│   1 │  19 │ 0.863636 │\n",
            "│   2 │  17 │ 0.772727 │\n",
            "│   3 │   9 │ 0.409091 │\n",
            "│   4 │  21 │ 0.954545 │\n",
            "│   5 │   3 │ 0.136364 │\n",
            "╰─────┴─────┴──────────╯\n",
            "Ciclo de vida: 5\n"
          ]
        }
      ]
    }
  ]
}
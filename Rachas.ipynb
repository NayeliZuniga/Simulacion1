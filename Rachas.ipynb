{
  "nbformat": 4,
  "nbformat_minor": 0,
  "metadata": {
    "colab": {
      "provenance": [],
      "authorship_tag": "ABX9TyMJbP+H3Rx6uKCKgZnNb1Pn",
      "include_colab_link": true
    },
    "kernelspec": {
      "name": "python3",
      "display_name": "Python 3"
    },
    "language_info": {
      "name": "python"
    }
  },
  "cells": [
    {
      "cell_type": "markdown",
      "metadata": {
        "id": "view-in-github",
        "colab_type": "text"
      },
      "source": [
        "<a href=\"https://colab.research.google.com/github/NayeliZuniga/Simulacion1/blob/main/Rachas.ipynb\" target=\"_parent\"><img src=\"https://colab.research.google.com/assets/colab-badge.svg\" alt=\"Open In Colab\"/></a>"
      ]
    },
    {
      "cell_type": "markdown",
      "source": [
        "Prueba de independencia\n",
        "> Prueba de corridas (Rachas)\n",
        "\n",
        "\n",
        "\n",
        "\n",
        "\n",
        "\n",
        "\n",
        "\n",
        "\n",
        "\n",
        "\n"
      ],
      "metadata": {
        "id": "LLIeulU-kPeK"
      }
    },
    {
      "cell_type": "code",
      "execution_count": null,
      "metadata": {
        "id": "SDvCGHqhkM2K"
      },
      "outputs": [],
      "source": [
        "import math\n",
        "def rachas(lista,k):      #lista:Numeros a revisar;   k: nivel de aceptación en porciento\n",
        "  #Secuencia de 1s y 0s\n",
        "  s=[]\n",
        "  for i in range(len(lista)-1):\n",
        "    if lista[i+1]>=lista[i]:\n",
        "      s.append(1)\n",
        "    elif lista[i+1]<lista[i]:\n",
        "      s.append(0)\n",
        "  #Num de rachas\n",
        "  c0=0\n",
        "  for i in range(len(s)):\n",
        "    if s[i-1]!=s[i]:\n",
        "      c0+=1\n",
        "    else:\n",
        "      c0=c0\n",
        "\n",
        "  #media(mu), varianza y z\n",
        "  mu=((2*len(lista))-1)/3\n",
        "  var=((16*len(lista))-29)/90\n",
        "  z=(c0-mu)/(math.sqrt(var))\n",
        "\n",
        "  #Valores para los diferentes niveles de aceptación más comunes\n",
        "  if k==90:\n",
        "    vc=1.64\n",
        "  elif k==95:\n",
        "    vc=1.96\n",
        "  elif k==98:\n",
        "    vc=2.32\n",
        "  elif k==99:\n",
        "    vc=2.57\n",
        "  #comparador para descartar o no\n",
        "  if z<=vc and z>=-vc:\n",
        "    return \"La hipotesis nula de que son independientes NO se rechaza\"\n",
        "  else:\n",
        "    return \"La hipotesis nula de que son independientes SE rechaza, por lo que no son independientes\""
      ]
    },
    {
      "cell_type": "code",
      "source": [
        "lista=[0.048, .926, .368, .787, .298,\n",
        "    .591, .007, .437, .594, .199,\n",
        "    .478, .551, .178, .086, .157,\n",
        "    .166, .362, .411, .951, .401,\n",
        "    .932, .533, .545, .772, .631]\n",
        "\n",
        "rachas(lista,95)"
      ],
      "metadata": {
        "colab": {
          "base_uri": "https://localhost:8080/",
          "height": 35
        },
        "id": "xjYH_xMYPyvR",
        "outputId": "1b0011d5-a68c-4c26-d2db-cc1a713ed666"
      },
      "execution_count": null,
      "outputs": [
        {
          "output_type": "execute_result",
          "data": {
            "text/plain": [
              "'La hipotesis nula de que son independientes NO se rechaza'"
            ],
            "application/vnd.google.colaboratory.intrinsic+json": {
              "type": "string"
            }
          },
          "metadata": {},
          "execution_count": 27
        }
      ]
    },
    {
      "cell_type": "markdown",
      "source": [
        "* 90%-> α= 0.1 -> α/2=0.05 -> |z|< 1.64\n",
        "* 95%-> α= 0.05 -> α/2=0.025 -> |z|< 1.96\n",
        "* 98%-> α= 0.02 -> α/2=0.01 -> |z|< 2.32\n",
        "* 99%-> α= 0.01 -> α/2=0.005 -> |z|< 2.57\n",
        "\n"
      ],
      "metadata": {
        "id": "D85O4UqyTx1g"
      }
    }
  ]
}
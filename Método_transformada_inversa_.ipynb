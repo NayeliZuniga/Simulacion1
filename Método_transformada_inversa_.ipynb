{
  "nbformat": 4,
  "nbformat_minor": 0,
  "metadata": {
    "colab": {
      "provenance": [],
      "include_colab_link": true
    },
    "kernelspec": {
      "name": "python3",
      "display_name": "Python 3"
    },
    "language_info": {
      "name": "python"
    }
  },
  "cells": [
    {
      "cell_type": "markdown",
      "metadata": {
        "id": "view-in-github",
        "colab_type": "text"
      },
      "source": [
        "<a href=\"https://colab.research.google.com/github/NayeliZuniga/Simulacion1/blob/main/M%C3%A9todo_transformada_inversa_.ipynb\" target=\"_parent\"><img src=\"https://colab.research.google.com/assets/colab-badge.svg\" alt=\"Open In Colab\"/></a>"
      ]
    },
    {
      "cell_type": "markdown",
      "source": [
        "Generación de variables aleatorias no uniformes"
      ],
      "metadata": {
        "id": "mOTCxNqS4hbV"
      }
    },
    {
      "cell_type": "markdown",
      "source": [
        "Método de la transformada inversa"
      ],
      "metadata": {
        "id": "HAqG7yRD4mk2"
      }
    },
    {
      "cell_type": "markdown",
      "source": [
        "Usa la distribución acumulada.\n",
        "Pasos:\n",
        "\n",
        "\n",
        "1.   Dado $f(x)$, calculamos **$F(x)=\\int_{-\\infty}^xf(\\xi)d\\xi$**\n",
        "2.   Suponer $R\\sim U(0,1)$ y resolver **$F(x)=R$**\n",
        "3.   Obtener **$x=F^{-1}(R)$**\n",
        "\n"
      ],
      "metadata": {
        "id": "jLcaq13F4rtl"
      }
    },
    {
      "cell_type": "markdown",
      "source": [
        "Ejemplo:"
      ],
      "metadata": {
        "id": "F3GCVnoZ56y-"
      }
    },
    {
      "cell_type": "markdown",
      "source": [
        "$f(x)=\\left\\{\\begin{array}{lc} \\frac{2(x-a)}{(c-a)(b-a)} & a\\leq x \\leq b\\\\ \\frac{2(x-c)}{(c-a)(b-c)} & b<x\\leq c \\end{array}\\right.$"
      ],
      "metadata": {
        "id": "rZtkgbcmZTEe"
      }
    },
    {
      "cell_type": "markdown",
      "source": [
        "1.   Dado $f(x)$, calculamos **$F(x)=\\int_{-\\infty}^xf(\\xi)d\\xi$**"
      ],
      "metadata": {
        "id": "bZmZ6XSxH7aY"
      }
    },
    {
      "cell_type": "markdown",
      "source": [
        "Para $a\\leq x \\leq b$:\\\n",
        "$\n",
        "  \\int_a^x \\frac{2(y-a)}{(c-a)(b-a)}dy=\\int_0^x \\frac{2}{(c-a)(b-a)}u du=\\frac{(x-a)^2}{(c-a)(b-a)}\n",
        "$"
      ],
      "metadata": {
        "id": "R5LOa64rEOmL"
      }
    },
    {
      "cell_type": "markdown",
      "source": [
        "Para $b\\leq x \\leq c$:\\\n",
        "$\n",
        "  \\int_a^b \\frac{2(y-a)}{(c-a)(b-a)}dy + \\int_b^x \\frac{2(y-c)}{(c-a)(b-c)} dy=\\frac{(b-a)^2}{(c-a)(b-a)}+\\frac{(x-c)^2}{(c-a)(b-c)}-\\frac{(b-c)^2}{(c-a)(b-c)}=1+\\frac{(x-c)^2}{(c-a)(b-c)}\n",
        "$"
      ],
      "metadata": {
        "id": "cbanMIJsGOZE"
      }
    },
    {
      "cell_type": "markdown",
      "source": [
        "$F(x)=\\int_{-\\infty}^x f(y)dy = \\left\\{\\begin{array}{lc} \\frac{(x-a)^2}{(c-a)(b-a)} & a\\leq x \\leq b \\\\ 1+\\frac{(x-c)^2}{(c-a)(b-c)} & b<x\\leq c \\end{array}\\right.$"
      ],
      "metadata": {
        "id": "42IL3TjybAq7"
      }
    },
    {
      "cell_type": "markdown",
      "source": [
        "2.   Suponer $R\\sim U(0,1)$ y resolver para x **$F(x)=R$**"
      ],
      "metadata": {
        "id": "TfdFXgBYd8dK"
      }
    },
    {
      "cell_type": "markdown",
      "source": [
        "$F(x)=R\\quad$ si $\\quad a\\leq x \\leq b$:\\\n",
        "$\n",
        "  \\frac{(x-a)^2}{(c-a)(b-a)}=R\\\\\n",
        "  (x-a)^2=R(c-a)(b-a)\\\\\n",
        "  x=\\pm\\sqrt{R(c-a)(b-a)}+a\n",
        "$"
      ],
      "metadata": {
        "id": "HqjtQ7CcIi-R"
      }
    },
    {
      "cell_type": "markdown",
      "source": [
        "$F(x)=R\\quad$ si $\\quad b\\leq x \\leq c$:\\\n",
        "$\n",
        "  1+\\frac{(x-c)^2}{(c-a)(b-c)}=R \\\\\n",
        "  (x-c)^2=(R-1)(c-a)(b-c)\\\\\n",
        "  x=\\pm\\sqrt{(R-1)(c-a)(b-c)}+c\n",
        "$"
      ],
      "metadata": {
        "id": "MCvUTEIKQri1"
      }
    },
    {
      "cell_type": "markdown",
      "source": [
        "3.   Obtener **$x=F^{-1}(R)$**"
      ],
      "metadata": {
        "id": "AiRnIH4vThX_"
      }
    },
    {
      "cell_type": "markdown",
      "source": [
        "$x=\\left\\{\\begin{array}{lc} \\sqrt{R(c-a)(b-a)}+a & R< \\frac{b-a}{c-a}\\\\ -\\sqrt{(R-1)(c-a)(b-c)}+c & \\text{otro caso} \\end{array}\\right.$"
      ],
      "metadata": {
        "id": "sLEdKleeeAS4"
      }
    },
    {
      "cell_type": "code",
      "source": [
        "#Se importan las librerías necesarias\n",
        "from re import X\n",
        "import numpy as np\n",
        "import matplotlib.pyplot as plt\n",
        "import random as rd\n",
        "import math"
      ],
      "metadata": {
        "id": "GwZMBCMeEPd5"
      },
      "execution_count": null,
      "outputs": []
    },
    {
      "cell_type": "code",
      "source": [
        "#Valores de a,b y c. Considerando a<b<c\n",
        "a=1\n",
        "b=3\n",
        "c=5"
      ],
      "metadata": {
        "id": "ss0JVlQJEasi"
      },
      "execution_count": null,
      "outputs": []
    },
    {
      "cell_type": "code",
      "source": [
        "#Funcion x=F^{-1}(R) n veces\n",
        "def inversa(n):\n",
        "  x=[]\n",
        "  for i in range(n):\n",
        "    R=rd.random()\n",
        "    if R<((b-a)/(c-a)):                         #Para describir la función en trozos\n",
        "      x.append(math.sqrt(R*(c-a)*(b-a))+a)\n",
        "    else:\n",
        "      x.append(-math.sqrt((R-1)*(c-a)*(b-c))+c)\n",
        "  return x"
      ],
      "metadata": {
        "id": "XXnsJAYKEQaB"
      },
      "execution_count": null,
      "outputs": []
    },
    {
      "cell_type": "code",
      "source": [
        "exp1 = inversa(10000)"
      ],
      "metadata": {
        "id": "NdXD_41iET0g"
      },
      "execution_count": null,
      "outputs": []
    },
    {
      "cell_type": "markdown",
      "source": [
        "Histograma"
      ],
      "metadata": {
        "id": "drD9IILTWdNt"
      }
    },
    {
      "cell_type": "code",
      "source": [
        "plt.hist(exp1, bins=50)"
      ],
      "metadata": {
        "colab": {
          "base_uri": "https://localhost:8080/",
          "height": 725
        },
        "id": "UOjKSzfNEVyr",
        "outputId": "f81b7af2-55c2-4c45-c152-318a6c26440d"
      },
      "execution_count": null,
      "outputs": [
        {
          "output_type": "execute_result",
          "data": {
            "text/plain": [
              "(array([  8.,  27.,  35.,  54.,  73.,  82.,  93., 137., 146., 163., 197.,\n",
              "        158., 181., 205., 208., 258., 287., 252., 297., 299., 357., 362.,\n",
              "        302., 368., 386., 419., 399., 378., 362., 337., 307., 296., 282.,\n",
              "        246., 224., 235., 208., 183., 180., 189., 153., 142., 107., 111.,\n",
              "         92.,  55.,  70.,  46.,  24.,  20.]),\n",
              " array([1.02801726, 1.10686178, 1.18570631, 1.26455083, 1.34339535,\n",
              "        1.42223988, 1.5010844 , 1.57992892, 1.65877344, 1.73761797,\n",
              "        1.81646249, 1.89530701, 1.97415154, 2.05299606, 2.13184058,\n",
              "        2.21068511, 2.28952963, 2.36837415, 2.44721867, 2.5260632 ,\n",
              "        2.60490772, 2.68375224, 2.76259677, 2.84144129, 2.92028581,\n",
              "        2.99913034, 3.07797486, 3.15681938, 3.2356639 , 3.31450843,\n",
              "        3.39335295, 3.47219747, 3.551042  , 3.62988652, 3.70873104,\n",
              "        3.78757556, 3.86642009, 3.94526461, 4.02410913, 4.10295366,\n",
              "        4.18179818, 4.2606427 , 4.33948723, 4.41833175, 4.49717627,\n",
              "        4.57602079, 4.65486532, 4.73370984, 4.81255436, 4.89139889,\n",
              "        4.97024341]),\n",
              " <BarContainer object of 50 artists>)"
            ]
          },
          "metadata": {},
          "execution_count": 14
        },
        {
          "output_type": "display_data",
          "data": {
            "text/plain": [
              "<Figure size 640x480 with 1 Axes>"
            ],
            "image/png": "[encoded data removed]"
          },
          "metadata": {}
        }
      ]
    },
    {
      "cell_type": "markdown",
      "source": [
        "Media"
      ],
      "metadata": {
        "id": "jd8UTyxKWmF3"
      }
    },
    {
      "cell_type": "code",
      "source": [
        "print(np.mean(exp1))"
      ],
      "metadata": {
        "colab": {
          "base_uri": "https://localhost:8080/"
        },
        "id": "RY8x7Dc2EXFi",
        "outputId": "ca76dd67-52d1-4f45-c624-0c54d0bea601"
      },
      "execution_count": null,
      "outputs": [
        {
          "output_type": "stream",
          "name": "stdout",
          "text": [
            "3.0030073019632924\n"
          ]
        }
      ]
    },
    {
      "cell_type": "markdown",
      "source": [
        "Desviación estandar"
      ],
      "metadata": {
        "id": "CmeWpqjSWzMY"
      }
    },
    {
      "cell_type": "code",
      "source": [
        "print(np.std(exp1))"
      ],
      "metadata": {
        "colab": {
          "base_uri": "https://localhost:8080/"
        },
        "id": "vegctsDtWikX",
        "outputId": "38ef52fb-cf43-4b07-84a6-ecb99dbdcc71"
      },
      "execution_count": null,
      "outputs": [
        {
          "output_type": "stream",
          "name": "stdout",
          "text": [
            "0.8073352128586508\n"
          ]
        }
      ]
    },
    {
      "cell_type": "markdown",
      "source": [
        "La funcion $f(x)$ del ejemplo, decribe la distribución triangular con una media 3, y una desviación estandar de $\\sqrt{\\frac{a^2+b^2+c^2-ab-ac-bc}{18}}$, para este caso de $\\sqrt{\\frac{2}{3}}\\approx 0.8165$, con las cuales coincide satisfactoriamente la simulación"
      ],
      "metadata": {
        "id": "GWw-Q_wFW24-"
      }
    }
  ]
}
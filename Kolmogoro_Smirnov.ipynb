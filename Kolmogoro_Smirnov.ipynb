{
  "nbformat": 4,
  "nbformat_minor": 0,
  "metadata": {
    "colab": {
      "provenance": [],
      "include_colab_link": true
    },
    "kernelspec": {
      "name": "python3",
      "display_name": "Python 3"
    },
    "language_info": {
      "name": "python"
    }
  },
  "cells": [
    {
      "cell_type": "markdown",
      "metadata": {
        "id": "view-in-github",
        "colab_type": "text"
      },
      "source": [
        "<a href=\"https://colab.research.google.com/github/NayeliZuniga/Simulacion1/blob/main/Kolmogoro_Smirnov.ipynb\" target=\"_parent\"><img src=\"https://colab.research.google.com/assets/colab-badge.svg\" alt=\"Open In Colab\"/></a>"
      ]
    },
    {
      "cell_type": "markdown",
      "source": [
        "Pruebas de forma\n",
        "\n",
        "\n",
        "*   Prueba de Kolmogorov-Smirnov\n",
        "\n"
      ],
      "metadata": {
        "id": "Eno_hevN-gK2"
      }
    },
    {
      "cell_type": "code",
      "execution_count": null,
      "metadata": {
        "id": "2AqoPhW037Wv"
      },
      "outputs": [],
      "source": [
        "def K_S(lista,vc):      #lista: muestra de numeros;   vc: valor critico de K-S para nivel de confianza 1-\\alpha y muestra de tamaño n\n",
        "  lista.sort()          #se ordena de menor a mayor\n",
        "  dplus=[]\n",
        "  dminus=[]\n",
        "  Di=[]\n",
        "  #Calculo de los valores D^+,  D^- y D\n",
        "  for i in range(len(lista)):\n",
        "    dplus.append((i/(len(lista)))-lista[i])\n",
        "    dminus.append(lista[i]-((i-1)/(len(lista))))\n",
        "  Di.append(max(dplus))\n",
        "  Di.append(max(dminus))\n",
        "  D=max(Di)\n",
        "  #Aplicación del criterio\n",
        "  if D<= vc:\n",
        "    return \"No se rechaza la hipotesis nula de que sea una distribucion uniforme\"\n",
        "  elif D>vc:\n",
        "    return \"Se rechaza la hipotesis nula de que sea una distribución uniforme\"\n"
      ]
    },
    {
      "cell_type": "markdown",
      "source": [
        "Ejemplo"
      ],
      "metadata": {
        "id": "Ce_Qnmpb_lX2"
      }
    },
    {
      "cell_type": "code",
      "source": [
        "lista=[0.048, .926, .368, .787, .298,\n",
        "    .591, .007, .437, .594, .199,\n",
        "    .478, .551, .178, .086, .157,\n",
        "    .166, .362, .411, .951, .401,\n",
        "    .932, .533, .545, .772, .631]\n",
        "\n",
        "K_S ( lista, 0.264)"
      ],
      "metadata": {
        "colab": {
          "base_uri": "https://localhost:8080/",
          "height": 35
        },
        "id": "7sc9pI_s8s2s",
        "outputId": "3d3198a6-5c8a-4ca6-b666-74e3b21e3699"
      },
      "execution_count": null,
      "outputs": [
        {
          "output_type": "execute_result",
          "data": {
            "text/plain": [
              "'No se rechaza la hipotesis nula de que sea una distribucion uniforme'"
            ],
            "application/vnd.google.colaboratory.intrinsic+json": {
              "type": "string"
            }
          },
          "metadata": {},
          "execution_count": 4
        }
      ]
    }
  ]
}
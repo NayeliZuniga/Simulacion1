{
  "nbformat": 4,
  "nbformat_minor": 0,
  "metadata": {
    "colab": {
      "provenance": []
    },
    "kernelspec": {
      "name": "python3",
      "display_name": "Python 3"
    },
    "language_info": {
      "name": "python"
    }
  },
  "cells": [
    {
      "cell_type": "markdown",
      "source": [
        "Uniforme, Triangular, Exponencial, m-Erlang, Gamma, Weibull, Normal, Lognormal, Beta, Pearson"
      ],
      "metadata": {
        "id": "pD5Pg1ax_vea"
      }
    },
    {
      "cell_type": "markdown",
      "source": [
        "Continuas:\n",
        "Uniforme, Triangular, Exponencial, m-Erlang, Gamma, Weibull, Normal, Log-normal, Beta, Pearson tipos, Log-logística, Johnson.   \n",
        "\n",
        "Discretas:\n",
        "Uniforme, Bernoulli, Geométrica, Binomial negativa, Poisson."
      ],
      "metadata": {
        "id": "Om2ssFyHBV1B"
      }
    },
    {
      "cell_type": "markdown",
      "source": [
        "* nomenclatura estándar\n",
        "* función de densidad\n",
        "* función acumulativa\n",
        "* media\n",
        "* variancia\n",
        "* desviación estándar\n",
        "* aplicaciones\n",
        "\n",
        "* Agregar seudocódigo y código"
      ],
      "metadata": {
        "id": "SbvFav-6Eotp"
      }
    },
    {
      "cell_type": "markdown",
      "source": [
        "# Funciones de distribucion ***continuas***\n",
        "\n",
        "* Uniforme\n",
        "* Triangular\n",
        "* Exponencial\n",
        "* M-Erlang\n",
        "* Gamma\n",
        "* Weibull\n",
        "* Normal\n",
        "* Log-normal\n",
        "* Beta\n",
        "* Pearson tipos\n",
        "* Log-logistica\n",
        "* Johnson"
      ],
      "metadata": {
        "id": "fDRSG3mxBhPJ"
      }
    },
    {
      "cell_type": "markdown",
      "source": [
        "## **Uniforme**\n"
      ],
      "metadata": {
        "id": "q3WYT7x1Da5Z"
      }
    },
    {
      "cell_type": "markdown",
      "source": [
        "### Nomenclatura estándar"
      ],
      "metadata": {
        "id": "o2oj4VClEwig"
      }
    },
    {
      "cell_type": "markdown",
      "source": [
        "$U(a,b)$\\\n",
        "Donde:\n",
        "- a: intervalo inferior\n",
        "- b: intervalo superior"
      ],
      "metadata": {
        "id": "pQXHdcF9IOUv"
      }
    },
    {
      "cell_type": "markdown",
      "source": [
        "### Media\n"
      ],
      "metadata": {
        "id": "Mzz-IJEHFA5g"
      }
    },
    {
      "cell_type": "markdown",
      "source": [
        "### Variancia\n"
      ],
      "metadata": {
        "id": "CTwWhLLHFDig"
      }
    },
    {
      "cell_type": "markdown",
      "source": [],
      "metadata": {
        "id": "uYXCKjP2LYXN"
      }
    },
    {
      "cell_type": "markdown",
      "source": [
        "### Desviación estándar\n"
      ],
      "metadata": {
        "id": "tO0-XBruFFGv"
      }
    },
    {
      "cell_type": "markdown",
      "source": [],
      "metadata": {
        "id": "3PLEUU0SLYw1"
      }
    },
    {
      "cell_type": "markdown",
      "source": [
        "### Función de densidad\n"
      ],
      "metadata": {
        "id": "QlqieVBvE6UA"
      }
    },
    {
      "cell_type": "markdown",
      "source": [
        "$\n",
        "f(x)=\\left\\{\n",
        "$"
      ],
      "metadata": {
        "id": "OnZLFBmDLWTP"
      }
    },
    {
      "cell_type": "markdown",
      "source": [
        "### Función acumulativa\n"
      ],
      "metadata": {
        "id": "PwzrUU0ZE--3"
      }
    },
    {
      "cell_type": "markdown",
      "source": [],
      "metadata": {
        "id": "c4rXXNGZLXOV"
      }
    },
    {
      "cell_type": "markdown",
      "source": [
        "\n",
        "###Agregar seudocódigo y código"
      ],
      "metadata": {
        "id": "zedWgFWgFGWv"
      }
    },
    {
      "cell_type": "markdown",
      "source": [
        "\n",
        "\n",
        "---\n",
        "\n"
      ],
      "metadata": {
        "id": "TDHR_PCRDXxI"
      }
    },
    {
      "cell_type": "markdown",
      "source": [
        "# Funciones de distribucion ***discretas***\n",
        "\n",
        "* Uniforme\n",
        "* Bernoulli\n",
        "* Geométrica\n",
        "* Binomial negativa\n",
        "* Poisson"
      ],
      "metadata": {
        "id": "HQLIZad9CiMp"
      }
    }
  ]
}
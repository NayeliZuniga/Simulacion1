{
  "nbformat": 4,
  "nbformat_minor": 0,
  "metadata": {
    "colab": {
      "provenance": [],
      "authorship_tag": "ABX9TyMjD1bFwVTjVL3Cy3JqzRUI",
      "include_colab_link": true
    },
    "kernelspec": {
      "name": "python3",
      "display_name": "Python 3"
    },
    "language_info": {
      "name": "python"
    }
  },
  "cells": [
    {
      "cell_type": "markdown",
      "metadata": {
        "id": "view-in-github",
        "colab_type": "text"
      },
      "source": [
        "<a href=\"https://colab.research.google.com/github/NayeliZuniga/Simulacion1/blob/main/M%C3%A9todo_de_las_12_uniformes.ipynb\" target=\"_parent\"><img src=\"https://colab.research.google.com/assets/colab-badge.svg\" alt=\"Open In Colab\"/></a>"
      ]
    },
    {
      "cell_type": "markdown",
      "source": [
        "Procedimientos especiales"
      ],
      "metadata": {
        "id": "UG5SLg1G3oRj"
      }
    },
    {
      "cell_type": "markdown",
      "source": [
        "Metodo de las 12 uniformes"
      ],
      "metadata": {
        "id": "_P1zFTiL48ZM"
      }
    },
    {
      "cell_type": "markdown",
      "source": [
        "Para generar\\\n",
        "$f(x)= \\frac{1}{\\sqrt{2\\pi} \\sigma} e^{-\\frac{1}{2}(\\frac{x-\\mu}{\\sigma})^2}= \\frac{1}{\\sqrt{2\\pi} \\sigma} e^{-\\frac{1}{2}(z)^2} \\quad, -\\infty< x<\\infty$\\\n",
        "Usamos el teorema del limite central:"
      ],
      "metadata": {
        "id": "jwp594uu3whL"
      }
    },
    {
      "cell_type": "markdown",
      "source": [
        "Generamos n números aleatorios y consideramos\\\n",
        "$\n",
        "  Z=\\frac{Y- \\sum_{i=1}^n \\mu_i}{\\sqrt{\\sum_{i=1}^n \\sigma_i^2}}\\quad \\text{donde } Y=a_1R_1+a_2R_2+...+a_nR_n, \\quad\\text{con }a_i=1 \\forall i=1,...,n\\\\\n",
        "  \\therefore  Z=\\frac{\\sum_{i=1}^n R_i - \\frac{n}{2}}{\\sqrt{\\frac{n}{12}}}\\\\\n",
        "  \\therefore Z=\\sum_{i=1}^{12}[R_i]-6\\\\\n",
        "  x=\\mu+\\sigma(\\sum_{i=1}^{12}[R_i]-6)\\\\\n",
        "  R_i\\sim U(0,1)\n",
        "$\n",
        "\n"
      ],
      "metadata": {
        "id": "r-1QdQRp5aMz"
      }
    },
    {
      "cell_type": "markdown",
      "source": [
        "Para una distribucion normal estandar se considera $\\mu=0$ & $\\sigma=1$"
      ],
      "metadata": {
        "id": "AEjyhJsP9zYh"
      }
    },
    {
      "cell_type": "code",
      "execution_count": null,
      "metadata": {
        "id": "norRUTFQ3nds"
      },
      "outputs": [],
      "source": [
        "#Se importan las librerias necesarias\n",
        "import random as rd\n",
        "import numpy as np\n",
        "import matplotlib.pyplot as plt"
      ]
    },
    {
      "cell_type": "code",
      "source": [
        "#se asignan los valores correspondientes\n",
        "mu=0\n",
        "sigma=1\n",
        "\n",
        "n=12    #En particular para este metodo, n siempre es 12. De ahí su nombre"
      ],
      "metadata": {
        "id": "IldDJB1G-CJp"
      },
      "execution_count": null,
      "outputs": []
    },
    {
      "cell_type": "code",
      "source": [
        "#forma de la función x correspondiente al metodo\n",
        "def x():\n",
        "  return mu+sigma*(sum([rd.random() for i in range(n)])-6)"
      ],
      "metadata": {
        "id": "FNbPfMXc-HFy"
      },
      "execution_count": null,
      "outputs": []
    },
    {
      "cell_type": "code",
      "source": [
        "#funcion para una cantidad m de iteraciones\n",
        "def iteraciones(m):\n",
        "  lista=[]\n",
        "  for i in range(m):\n",
        "    lista.append(x())\n",
        "  return lista"
      ],
      "metadata": {
        "id": "07cRlBup-aWZ"
      },
      "execution_count": null,
      "outputs": []
    },
    {
      "cell_type": "code",
      "source": [
        "c=iteraciones(10000)"
      ],
      "metadata": {
        "id": "R3z7PdoJ_dG5"
      },
      "execution_count": null,
      "outputs": []
    },
    {
      "cell_type": "markdown",
      "source": [
        "Histograma"
      ],
      "metadata": {
        "id": "L3sZO5-tLWRM"
      }
    },
    {
      "cell_type": "code",
      "source": [
        "plt.hist(c,bins=100)\n",
        "plt.show()"
      ],
      "metadata": {
        "colab": {
          "base_uri": "https://localhost:8080/",
          "height": 430
        },
        "id": "HaI9LvP5_jyB",
        "outputId": "b8f5d7a4-854e-4e77-c185-2ad2672b6706"
      },
      "execution_count": null,
      "outputs": [
        {
          "output_type": "display_data",
          "data": {
            "text/plain": [
              "<Figure size 640x480 with 1 Axes>"
            ],
            "image/png": "[encoded data removed]"
          },
          "metadata": {}
        }
      ]
    },
    {
      "cell_type": "markdown",
      "source": [
        "Media"
      ],
      "metadata": {
        "id": "tc8Qaos3LYob"
      }
    },
    {
      "cell_type": "code",
      "source": [
        "print(np.mean(c))"
      ],
      "metadata": {
        "colab": {
          "base_uri": "https://localhost:8080/"
        },
        "id": "R4dIsIsy_22Z",
        "outputId": "29fc0849-4f4d-4c8d-9b18-90d2d5c627e6"
      },
      "execution_count": null,
      "outputs": [
        {
          "output_type": "stream",
          "name": "stdout",
          "text": [
            "0.0049821707876281235\n"
          ]
        }
      ]
    },
    {
      "cell_type": "markdown",
      "source": [
        "Desviación estandar"
      ],
      "metadata": {
        "id": "zOimDvMILd1T"
      }
    },
    {
      "cell_type": "code",
      "source": [
        "print(np.std(c))"
      ],
      "metadata": {
        "colab": {
          "base_uri": "https://localhost:8080/"
        },
        "id": "RVpsW8_XLk1Y",
        "outputId": "1167ff2e-0344-455d-e1cd-69bafa1eb8a6"
      },
      "execution_count": null,
      "outputs": [
        {
          "output_type": "stream",
          "name": "stdout",
          "text": [
            "1.0000379173436342\n"
          ]
        }
      ]
    },
    {
      "cell_type": "markdown",
      "source": [
        "La simulación coincide satisfatoriamente con la distribución normal estandar con una media 0, y una desviación estandar 1, pues el valor obtenido para cada uno de estos es muy cercano al teorico antes mencionado."
      ],
      "metadata": {
        "id": "GWw-Q_wFW24-"
      }
    }
  ]
}
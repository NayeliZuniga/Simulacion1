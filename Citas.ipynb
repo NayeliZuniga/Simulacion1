{
  "cells": [
    {
      "cell_type": "markdown",
      "metadata": {
        "id": "view-in-github",
        "colab_type": "text"
      },
      "source": [
        "<a href=\"https://colab.research.google.com/github/NayeliZuniga/Simulacion1/blob/main/Citas.ipynb\" target=\"_parent\"><img src=\"https://colab.research.google.com/assets/colab-badge.svg\" alt=\"Open In Colab\"/></a>"
      ]
    },
    {
      "cell_type": "markdown",
      "id": "a5cc0a87",
      "metadata": {
        "id": "a5cc0a87"
      },
      "source": [
        "# Metodología de la Simulación"
      ]
    },
    {
      "cell_type": "markdown",
      "id": "dGvtabp4xORJ",
      "metadata": {
        "id": "dGvtabp4xORJ"
      },
      "source": [
        "## Ejemplo\n",
        "\n",
        "Dos personas han quedado citas en un determinado lugar. Ambas tienen la misma probabilidad de llegar al lugar de la cita en el intervalo de tiempo [0, 30] (minutos). Determínese la probabilidad de que el tiempo que una persona espere a la otra sea\n",
        "como máximo 10 minutos."
      ]
    },
    {
      "cell_type": "markdown",
      "id": "Kw3mIhDoH3O3",
      "metadata": {
        "id": "Kw3mIhDoH3O3"
      },
      "source": [
        "## Solución por simulación"
      ]
    },
    {
      "cell_type": "code",
      "execution_count": 10,
      "id": "PQaNDR5ReLEL",
      "metadata": {
        "id": "PQaNDR5ReLEL"
      },
      "outputs": [],
      "source": [
        "import random as rd\n",
        "import numpy as np\n",
        "import matplotlib.pyplot as plt"
      ]
    },
    {
      "cell_type": "code",
      "execution_count": 11,
      "id": "xlecBRdueNu-",
      "metadata": {
        "id": "xlecBRdueNu-"
      },
      "outputs": [],
      "source": [
        "def aceptacion(n):\n",
        " exitos=0\n",
        " for _ in range(n):\n",
        "  U_1=rd.random()\n",
        "  U_2=rd.random()\n",
        "  x=30*U_1\n",
        "  y=30*U_2\n",
        "  if abs(x-y)<=10:\n",
        "    exitos+=1\n",
        " return exitos/n"
      ]
    },
    {
      "cell_type": "code",
      "execution_count": 12,
      "id": "c_nz3VlNgmoQ",
      "metadata": {
        "id": "c_nz3VlNgmoQ",
        "colab": {
          "base_uri": "https://localhost:8080/"
        },
        "outputId": "7bbd78d7-8aec-4342-8e9b-3bab26b06d94"
      },
      "outputs": [
        {
          "output_type": "stream",
          "name": "stdout",
          "text": [
            "0.5486\n"
          ]
        }
      ],
      "source": [
        "exp=aceptacion(5000)\n",
        "print(exp)"
      ]
    },
    {
      "cell_type": "code",
      "execution_count": 13,
      "id": "tQJon-5vgtPp",
      "metadata": {
        "colab": {
          "base_uri": "https://localhost:8080/",
          "height": 430
        },
        "collapsed": true,
        "id": "tQJon-5vgtPp",
        "outputId": "6e2f3d2f-cba2-41e7-c026-26692fc87c67"
      },
      "outputs": [
        {
          "output_type": "display_data",
          "data": {
            "text/plain": [
              "<Figure size 640x480 with 1 Axes>"
            ],
            "image/png": "[encoded data removed]"
          },
          "metadata": {}
        }
      ],
      "source": [
        "def repetir(m):\n",
        "  lista=[]\n",
        "  for i in range(m):\n",
        "    lista.append(aceptacion(i+1))\n",
        "  return lista\n",
        "plt.hist(repetir(10000), bins=100)\n",
        "plt.show()"
      ]
    }
  ],
  "metadata": {
    "colab": {
      "provenance": [],
      "include_colab_link": true
    },
    "kernelspec": {
      "display_name": "Python 3 (ipykernel)",
      "language": "python",
      "name": "python3"
    },
    "language_info": {
      "codemirror_mode": {
        "name": "ipython",
        "version": 3
      },
      "file_extension": ".py",
      "mimetype": "text/x-python",
      "name": "python",
      "nbconvert_exporter": "python",
      "pygments_lexer": "ipython3",
      "version": "3.7.3"
    }
  },
  "nbformat": 4,
  "nbformat_minor": 5
}
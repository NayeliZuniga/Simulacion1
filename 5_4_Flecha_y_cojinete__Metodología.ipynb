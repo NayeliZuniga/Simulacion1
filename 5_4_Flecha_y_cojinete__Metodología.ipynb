{
  "cells": [
    {
      "cell_type": "markdown",
      "metadata": {
        "id": "view-in-github",
        "colab_type": "text"
      },
      "source": [
        "<a href=\"https://colab.research.google.com/github/NayeliZuniga/Simulacion1/blob/main/5_4_Flecha_y_cojinete__Metodolog%C3%ADa.ipynb\" target=\"_parent\"><img src=\"https://colab.research.google.com/assets/colab-badge.svg\" alt=\"Open In Colab\"/></a>"
      ]
    },
    {
      "cell_type": "markdown",
      "id": "a5cc0a87",
      "metadata": {
        "id": "a5cc0a87"
      },
      "source": [
        "# Metodología de la Simulación"
      ]
    },
    {
      "cell_type": "markdown",
      "metadata": {
        "id": "dGvtabp4xORJ"
      },
      "source": [
        "## Ejemplo\n",
        "\n",
        "Una flecha será ensamblada en un cojinete como se muestra a continuación:"
      ],
      "id": "dGvtabp4xORJ"
    },
    {
      "cell_type": "markdown",
      "source": [
        "![image.png](data:image/png;base64,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)"
      ],
      "metadata": {
        "id": "ERK1CB3RxpuU"
      },
      "id": "ERK1CB3RxpuU"
    },
    {
      "cell_type": "markdown",
      "source": [
        "Si $X_1$, sigue una distribución normal con media 1.5 y varianza 0.0016, y $X_2$ sigue esta misma distribución con media 1.48 y varianza 0.0009, determine:\n",
        "* La probabilidad de que haya interferencia\n",
        "* El número de veces que es necesario simular el experimento, si se quiere que la probabilidad de interferencia estimada difiera de si valor verdadero en menos de 0.01, con un nivel de seguridad del 95%"
      ],
      "metadata": {
        "id": "w7vCmJBIx2ov"
      },
      "id": "w7vCmJBIx2ov"
    },
    {
      "cell_type": "markdown",
      "id": "0e218d98",
      "metadata": {
        "id": "0e218d98"
      },
      "source": [
        "### 1. Identifique las variables\n",
        "\n",
        "Aquellas cuyo comportamiento define el comportamiento o la evoución global del sistema real."
      ]
    },
    {
      "cell_type": "markdown",
      "source": [
        "$\n",
        "N(\\mu,\\sigma)\\\\\n",
        "X_1\\sim N(1.5,0.04)\\\\\n",
        "X_2\\sim N(1.48,0.03)\n",
        "$"
      ],
      "metadata": {
        "id": "VIuDKOTGlEd0"
      },
      "id": "VIuDKOTGlEd0"
    },
    {
      "cell_type": "markdown",
      "id": "3ebcd0f2",
      "metadata": {
        "id": "3ebcd0f2"
      },
      "source": [
        "### 2. Determine la distribución de probabilidad\n",
        "\n",
        "Elija el tipo de distribución de probabilidad que mejor defina el comportamiento aleatorio de cada una de las variables del sistema identificadas en el paso anterior."
      ]
    },
    {
      "cell_type": "markdown",
      "source": [
        "$\n",
        "X_1\\sim f(x)=\\frac{1}{\\sqrt{2\\pi}(0.04)}e^{\\frac{-(x-1.5)^2}{2(0.0016)}}\\\\\n",
        "X_2\\sim f(x)=\\frac{1}{\\sqrt{2\\pi}(0.03)}e^{\\frac{-(x-1.48)^2}{2(0.0009)}}\\\\\n",
        "$"
      ],
      "metadata": {
        "id": "O9o9soWemkwl"
      },
      "id": "O9o9soWemkwl"
    },
    {
      "cell_type": "markdown",
      "id": "803801d5",
      "metadata": {
        "id": "803801d5"
      },
      "source": [
        "### 3. Modele las variables aleatorias\n",
        "\n",
        "Construya un modelo fiel de la aleatoriedad de las variables del sistema. Simular el comportamiento del sistema implica generar muestras aleatorias de cada variable que sigan fielmente la distribución de probabilidad correspondiente."
      ]
    },
    {
      "cell_type": "code",
      "source": [
        "#Tenemos 3 métodos, por las ventajas que se tienen procedemos por\n",
        "#Box-Müller"
      ],
      "metadata": {
        "id": "vEywvXK1n5Ww"
      },
      "id": "vEywvXK1n5Ww",
      "execution_count": null,
      "outputs": []
    },
    {
      "cell_type": "code",
      "execution_count": null,
      "metadata": {
        "id": "PQaNDR5ReLEL"
      },
      "outputs": [],
      "source": [
        "import random as rd\n",
        "import numpy as np\n",
        "import matplotlib.pyplot as plt"
      ],
      "id": "PQaNDR5ReLEL"
    },
    {
      "cell_type": "code",
      "source": [
        "def aceptacion(n):\n",
        " lista=[]\n",
        " for _ in range(n):\n",
        "  U_1=rd.random()\n",
        "  U_2=rd.random()\n",
        "  R= np.sqrt((-2)*np.log(U_1))\n",
        "  theta=2*np.pi*U_2\n",
        "  lista.append(R*np.cos(theta))\n",
        "  lista.append(R*np.sin(theta))\n",
        " return lista"
      ],
      "metadata": {
        "id": "xlecBRdueNu-"
      },
      "execution_count": null,
      "outputs": [],
      "id": "xlecBRdueNu-"
    },
    {
      "cell_type": "code",
      "source": [
        "exp=aceptacion(5000)"
      ],
      "metadata": {
        "id": "c_nz3VlNgmoQ"
      },
      "execution_count": null,
      "outputs": [],
      "id": "c_nz3VlNgmoQ"
    },
    {
      "cell_type": "code",
      "source": [
        "plt.hist(exp, bins=100)\n",
        "plt.show()"
      ],
      "metadata": {
        "colab": {
          "base_uri": "https://localhost:8080/",
          "height": 430
        },
        "collapsed": true,
        "id": "tQJon-5vgtPp",
        "outputId": "1a1faa3c-aa96-4322-ba78-8b401ed3b0f5"
      },
      "execution_count": null,
      "outputs": [
        {
          "output_type": "display_data",
          "data": {
            "text/plain": [
              "<Figure size 640x480 with 1 Axes>"
            ],
            "image/png": "[encoded data removed]"
          },
          "metadata": {}
        }
      ],
      "id": "tQJon-5vgtPp"
    },
    {
      "cell_type": "markdown",
      "id": "33709223",
      "metadata": {
        "id": "33709223"
      },
      "source": [
        "### 4. Defina el modelo del sistema y los objetivos de la simulación\n",
        "\n",
        "Fije los objetivos y diseñe un modelo del sistema real que abstraiga sus propiedades más relevantes. Todo error en el modelo (o su implementación computacional) puede dar lugar a conclusiones equivocadas.\n",
        "\n",
        "Antes de experimentar con el modelo, asegurarse de que refleja fielmente el sistema real **validando** el mismo a partir de datos reales, para ello compare los resultados obtenidos de la simulación con los producidos por el sistema."
      ]
    },
    {
      "cell_type": "markdown",
      "source": [
        "* Condición de interferencia:\n",
        "$X_2\\geq X_1$\n",
        "* Buscamos:$P(X_2\\geq X_1)$"
      ],
      "metadata": {
        "id": "fE_JCs0tp2Aq"
      },
      "id": "fE_JCs0tp2Aq"
    },
    {
      "cell_type": "markdown",
      "source": [
        "___\n",
        "Cambio a la parte computacional"
      ],
      "metadata": {
        "id": "VdRc37xdrGnq"
      },
      "id": "VdRc37xdrGnq"
    },
    {
      "cell_type": "markdown",
      "id": "7f853065",
      "metadata": {
        "id": "7f853065"
      },
      "source": [
        "### 5. Diseñe el experimento\n",
        "\n",
        "Diseñe un experimento así como las ejecuciones concretas del mismo, los escenarios que desea estudiar para alcanzar los objetivos fijados. El experimento consiste en generar valores de las variables cuyo comportamiento define el comportamiento del sistema y analizar este ante dichos valores."
      ]
    },
    {
      "cell_type": "markdown",
      "source": [
        "* Experimento: Generar dos numeros aleatorios y compararlos."
      ],
      "metadata": {
        "id": "wAhAB4Doq7ay"
      },
      "id": "wAhAB4Doq7ay"
    },
    {
      "cell_type": "code",
      "execution_count": null,
      "metadata": {
        "id": "aYiRfB92wtja"
      },
      "outputs": [],
      "source": [
        "import numpy as np\n",
        "import random\n",
        "import matplotlib.pyplot as plt"
      ],
      "id": "aYiRfB92wtja"
    },
    {
      "cell_type": "code",
      "source": [
        "#Generar dos numeros aleatorios y compararlos.\n",
        "x1=np.random.normal(1.5,0.04,1)\n",
        "x2=np.random.normal(1.48,0.03,1)\n",
        "if x1<=x2:\n",
        "  print(\"Éxito\")\n",
        "else:\n",
        "  print(\"Fracaso\")"
      ],
      "metadata": {
        "colab": {
          "base_uri": "https://localhost:8080/"
        },
        "id": "sI3EAIaIv2St",
        "outputId": "61a92a07-d5bc-4e4d-81ba-b6d619f94c04"
      },
      "id": "sI3EAIaIv2St",
      "execution_count": null,
      "outputs": [
        {
          "output_type": "stream",
          "name": "stdout",
          "text": [
            "Éxito\n"
          ]
        }
      ]
    },
    {
      "cell_type": "markdown",
      "id": "15ae61c8",
      "metadata": {
        "id": "15ae61c8"
      },
      "source": [
        "### 6. Repita el experimento $n$ veces\n",
        "\n",
        "Así dispondrá de $n$ observaciones sobre el comportamiento del sistema, lo que permitirá entender su funcionamiento así como evaluar el desempeño del mismo frente a los diversos escenarios establecidos.\n",
        "\n",
        "El **método Monte Carlo** se basa en la **Ley Fuerte de los Grandes Números** y el **Teorema del Límite Central**."
      ]
    },
    {
      "cell_type": "code",
      "source": [
        "#Generar n pares de numeros aleatorios y compararlos\n",
        "def experimento(n):\n",
        "    inter=0\n",
        "    for _ in range(n):\n",
        "        x1=np.random.normal(1.5,0.04,1)\n",
        "        x2=np.random.normal(1.48,0.03,1)\n",
        "        if x1<=x2:\n",
        "            inter += 1\n",
        "    return inter/n"
      ],
      "metadata": {
        "id": "AU69sFC6wNNi"
      },
      "execution_count": null,
      "outputs": [],
      "id": "AU69sFC6wNNi"
    },
    {
      "cell_type": "markdown",
      "source": [
        "Grafica de convergencia, fluctúa y tiende a un valor. Que va a ser la probabilidad que estamos buscando"
      ],
      "metadata": {
        "id": "TOCPwQeQrQmT"
      },
      "id": "TOCPwQeQrQmT"
    },
    {
      "cell_type": "markdown",
      "id": "d270399e",
      "metadata": {
        "id": "d270399e"
      },
      "source": [
        "### 7. Gráfica de estabilización\n",
        "Obtenga la gráfica de estabilización que indica que el tamaño de muestra utilizado es suficiente para\n",
        "garantizar la convergencia del resultado."
      ]
    },
    {
      "cell_type": "code",
      "source": [
        "def muestra(m):\n",
        " lista=[]\n",
        " for i in range(m):\n",
        "  e=experimento (10)\n",
        "  lista.append(e)\n",
        " return lista"
      ],
      "metadata": {
        "id": "rWydzGWQZXOm"
      },
      "id": "rWydzGWQZXOm",
      "execution_count": null,
      "outputs": []
    },
    {
      "cell_type": "code",
      "execution_count": null,
      "id": "548249d8",
      "metadata": {
        "id": "548249d8"
      },
      "outputs": [],
      "source": [
        "m=muestra(1000)"
      ]
    },
    {
      "cell_type": "code",
      "execution_count": null,
      "id": "566325f4",
      "metadata": {
        "id": "566325f4",
        "colab": {
          "base_uri": "https://localhost:8080/"
        },
        "outputId": "6a1de47b-0e93-475c-ab81-39476ae587d7"
      },
      "outputs": [
        {
          "output_type": "execute_result",
          "data": {
            "text/plain": [
              "np.float64(0.3479)"
            ]
          },
          "metadata": {},
          "execution_count": 77
        }
      ],
      "source": [
        "np.mean(m)"
      ]
    },
    {
      "cell_type": "code",
      "execution_count": null,
      "id": "ef68f87c",
      "metadata": {
        "id": "ef68f87c",
        "colab": {
          "base_uri": "https://localhost:8080/",
          "height": 430
        },
        "outputId": "3b808c39-9d0b-4ab7-a3d7-a437808de83a"
      },
      "outputs": [
        {
          "output_type": "display_data",
          "data": {
            "text/plain": [
              "<Figure size 640x480 with 1 Axes>"
            ],
            "image/png": "[encoded data removed]"
          },
          "metadata": {}
        }
      ],
      "source": [
        "plt.plot(m)\n",
        "plt.axhline(y=np.mean(m), color=\"green\")\n",
        "plt.show()"
      ]
    },
    {
      "cell_type": "markdown",
      "id": "f596fcd1",
      "metadata": {
        "id": "f596fcd1"
      },
      "source": [
        "### 8. Replique el modelo."
      ]
    },
    {
      "cell_type": "code",
      "execution_count": null,
      "id": "b237f0d0",
      "metadata": {
        "id": "b237f0d0"
      },
      "outputs": [],
      "source": [
        "def simulacion(z):\n",
        "    lista=[]\n",
        "    for _ in range(z):\n",
        "        lista.append(muestra(1000))\n",
        "    return lista"
      ]
    },
    {
      "cell_type": "code",
      "execution_count": null,
      "id": "d060db89",
      "metadata": {
        "id": "d060db89"
      },
      "outputs": [],
      "source": [
        "sim=simulacion(1000)\n",
        "#mínimo 30 para poder hacer estadística"
      ]
    },
    {
      "cell_type": "code",
      "execution_count": null,
      "id": "cc0b958d",
      "metadata": {
        "id": "cc0b958d",
        "colab": {
          "base_uri": "https://localhost:8080/",
          "height": 430
        },
        "outputId": "fb1f42e0-70c7-4bde-c2c4-f4dcc206a37e"
      },
      "outputs": [
        {
          "output_type": "display_data",
          "data": {
            "text/plain": [
              "<Figure size 640x480 with 1 Axes>"
            ],
            "image/png": "[encoded data removed]"
          },
          "metadata": {}
        }
      ],
      "source": [
        "plt.hist(sim, bins=50)\n",
        "plt.show()"
      ]
    },
    {
      "cell_type": "markdown",
      "id": "6e9bd469",
      "metadata": {
        "id": "6e9bd469"
      },
      "source": [
        "### 9. Probabilidad\n",
        " Calcule la probabilidad de que haya interferencia"
      ]
    },
    {
      "cell_type": "code",
      "execution_count": null,
      "id": "dbeb0461",
      "metadata": {
        "id": "dbeb0461",
        "colab": {
          "base_uri": "https://localhost:8080/"
        },
        "outputId": "5c8e6eee-921c-49c2-f05d-7cf324dca3e6"
      },
      "outputs": [
        {
          "output_type": "stream",
          "name": "stdout",
          "text": [
            "Media: 0.34466870000000005, Varianza: 0.02261901724030999, Desviacion estandar: 0.15039620088389863\n"
          ]
        }
      ],
      "source": [
        "print(f\"Media: {np.mean(sim)}, Varianza: {np.var(sim)}, Desviacion estandar: {np.std(sim)}\")"
      ]
    },
    {
      "cell_type": "markdown",
      "id": "db8776d2",
      "metadata": {
        "id": "db8776d2"
      },
      "source": [
        "### 10. Intervalo de confianza\n",
        "Halle el intervalo de confianza de la probabilidad de que haya una interferencia con un nivel de confianza del $95 \\%$."
      ]
    },
    {
      "cell_type": "code",
      "execution_count": null,
      "id": "e5132329",
      "metadata": {
        "id": "e5132329",
        "colab": {
          "base_uri": "https://localhost:8080/"
        },
        "outputId": "f7f74d35-f45b-4360-bc92-d186bca671eb"
      },
      "outputs": [
        {
          "output_type": "stream",
          "name": "stdout",
          "text": [
            "[np.float64(0.049892146267558724), np.float64(0.6394452537324413)]\n"
          ]
        }
      ],
      "source": [
        "intervalo = [np.mean(sim)-1.96*np.std(sim),\n",
        "             np.mean(sim)+1.96*np.std(sim)]\n",
        "print(intervalo)"
      ]
    }
  ],
  "metadata": {
    "kernelspec": {
      "display_name": "Python 3 (ipykernel)",
      "language": "python",
      "name": "python3"
    },
    "language_info": {
      "codemirror_mode": {
        "name": "ipython",
        "version": 3
      },
      "file_extension": ".py",
      "mimetype": "text/x-python",
      "name": "python",
      "nbconvert_exporter": "python",
      "pygments_lexer": "ipython3",
      "version": "3.7.3"
    },
    "colab": {
      "provenance": [],
      "include_colab_link": true
    }
  },
  "nbformat": 4,
  "nbformat_minor": 5
}
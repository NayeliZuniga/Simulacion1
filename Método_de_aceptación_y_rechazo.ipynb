{
  "nbformat": 4,
  "nbformat_minor": 0,
  "metadata": {
    "colab": {
      "provenance": [],
      "authorship_tag": "ABX9TyNE8skQO0NT+Dzw22Sd+mxD",
      "include_colab_link": true
    },
    "kernelspec": {
      "name": "python3",
      "display_name": "Python 3"
    },
    "language_info": {
      "name": "python"
    }
  },
  "cells": [
    {
      "cell_type": "markdown",
      "metadata": {
        "id": "view-in-github",
        "colab_type": "text"
      },
      "source": [
        "<a href=\"https://colab.research.google.com/github/NayeliZuniga/Simulacion1/blob/main/M%C3%A9todo_de_aceptaci%C3%B3n_y_rechazo.ipynb\" target=\"_parent\"><img src=\"https://colab.research.google.com/assets/colab-badge.svg\" alt=\"Open In Colab\"/></a>"
      ]
    },
    {
      "cell_type": "markdown",
      "source": [
        "Método de aceptación y rechazo"
      ],
      "metadata": {
        "id": "xVhLwlUciHUF"
      }
    },
    {
      "cell_type": "markdown",
      "source": [
        "Pasos:\n",
        "1.  Generar dos numeros aleatorios $R_1$, $R_2$\n",
        "2. Determinar x:\\\n",
        "$x=a+(b-a)R_1$\n",
        "3. Evaluar f en x\n",
        "4. Si $R_2\\leq \\frac{f(x)}{M}$, aceptar $x$.\\\n",
        "Otro caso, rechazar $x$"
      ],
      "metadata": {
        "id": "2bAdybNZiOFU"
      }
    },
    {
      "cell_type": "markdown",
      "source": [
        "Con $a$,$b$ extremos del intervalo de la función y $M$ cota superior de la función."
      ],
      "metadata": {
        "id": "xTS72joWi-Ej"
      }
    },
    {
      "cell_type": "markdown",
      "source": [
        "Ejemplo:\n",
        "Considerando la distribución triangular donde $a<c<b$ y el punto máximo es $\\frac{2}{b-a}$. Descrita por la función"
      ],
      "metadata": {
        "id": "ip2wFfd1j9LI"
      }
    },
    {
      "cell_type": "markdown",
      "source": [
        "$f(x)=\\left\\{\\begin{array}{lc} \\frac{2(x-a)}{(b-a)(c-a)} & a\\leq x \\leq c\\\\ \\frac{2(x-b)}{(b-a)(c-b)} & c<x\\leq b \\end{array}\\right.$"
      ],
      "metadata": {
        "id": "io6r-bxdkthy"
      }
    },
    {
      "cell_type": "code",
      "execution_count": 17,
      "metadata": {
        "id": "PQaNDR5ReLEL"
      },
      "outputs": [],
      "source": [
        "#importar las librerias necesarias\n",
        "import random as rd\n",
        "import numpy as np\n",
        "import matplotlib.pyplot as plt"
      ]
    },
    {
      "cell_type": "code",
      "source": [
        "#Valores para este caso de a,b,c y M.\n",
        "#Con a y b extremos del intervalo. C punto de la cota superior M.\n",
        "a=1\n",
        "c=3\n",
        "b=5\n",
        "M=2/(b-a)"
      ],
      "metadata": {
        "id": "Peub2IryeX_0"
      },
      "execution_count": 18,
      "outputs": []
    },
    {
      "cell_type": "code",
      "source": [
        "#Define la funcion de la distribución triangular\n",
        "def f(x,a,b,c):\n",
        " if a<=x and x<=c:\n",
        "  return (2*(x-a))/((b-a)*(c-a))\n",
        " elif c<x and x<=b:\n",
        "  return ((2)*(x-b))/((b-a)*(c-b))"
      ],
      "metadata": {
        "id": "Pyw6EbcderJ-"
      },
      "execution_count": 19,
      "outputs": []
    },
    {
      "cell_type": "code",
      "source": [
        "def aceptacion(n):\n",
        " lista=[]\n",
        " for _ in range(n):\n",
        "  R1=rd.random()            #1. Generar dos numeros aleatorios $R_1$, $R_2$\n",
        "  R2=rd.random()\n",
        "  x= a+(b-a)*R1             #2. Determinar x=a+(b-a)R_1\n",
        "  if R2<=(f(x,a,b,c)/M):    #3. Evaluar f en x; 4. Si R_2 <= f(x)/M, aceptar x.\n",
        "   lista.append(x)\n",
        " return lista"
      ],
      "metadata": {
        "id": "xlecBRdueNu-"
      },
      "execution_count": 20,
      "outputs": []
    },
    {
      "cell_type": "code",
      "source": [
        "exp=aceptacion(50000)"
      ],
      "metadata": {
        "id": "c_nz3VlNgmoQ"
      },
      "execution_count": 21,
      "outputs": []
    },
    {
      "cell_type": "markdown",
      "source": [
        "Histograma"
      ],
      "metadata": {
        "id": "4QTevAXTqb2m"
      }
    },
    {
      "cell_type": "code",
      "source": [
        "plt.hist(exp, bins=100)\n",
        "plt.show()"
      ],
      "metadata": {
        "colab": {
          "base_uri": "https://localhost:8080/",
          "height": 430
        },
        "collapsed": true,
        "id": "tQJon-5vgtPp",
        "outputId": "ce4ae3fa-9767-41f3-ff53-e23063cae9a3"
      },
      "execution_count": 22,
      "outputs": [
        {
          "output_type": "display_data",
          "data": {
            "text/plain": [
              "<Figure size 640x480 with 1 Axes>"
            ],
            "image/png": "[encoded data removed]"
          },
          "metadata": {}
        }
      ]
    },
    {
      "cell_type": "markdown",
      "source": [
        "Media"
      ],
      "metadata": {
        "id": "o8LnlmE_qjqL"
      }
    },
    {
      "cell_type": "code",
      "source": [
        "print(np.mean(exp))"
      ],
      "metadata": {
        "colab": {
          "base_uri": "https://localhost:8080/"
        },
        "id": "XwJVAG69h5tt",
        "outputId": "593a9383-b7b3-49cb-96cc-0b3cb3fd8ad3"
      },
      "execution_count": 23,
      "outputs": [
        {
          "output_type": "stream",
          "name": "stdout",
          "text": [
            "2.9927993616757416\n"
          ]
        }
      ]
    },
    {
      "cell_type": "markdown",
      "source": [
        "Desviación estandar"
      ],
      "metadata": {
        "id": "4Vmhleq_qnBw"
      }
    },
    {
      "cell_type": "code",
      "source": [
        "print(np.std(exp))"
      ],
      "metadata": {
        "colab": {
          "base_uri": "https://localhost:8080/"
        },
        "id": "cME69-fMhwda",
        "outputId": "02fa92ba-18d8-4c23-870e-5364eaee6f1e"
      },
      "execution_count": 24,
      "outputs": [
        {
          "output_type": "stream",
          "name": "stdout",
          "text": [
            "0.8167187445325986\n"
          ]
        }
      ]
    },
    {
      "cell_type": "markdown",
      "source": [
        "La funcion $f(x)$ del ejemplo, decribe la distribución triangular con una **media 3**, y una **desviación estandar** de $\\sqrt{\\frac{a^2+b^2+c^2-ab-ac-bc}{18}}$, para este caso **de $\\sqrt{\\frac{2}{3}}\\approx 0.8165$**, con las cuales coincide satisfactoriamente la simulación"
      ],
      "metadata": {
        "id": "GWw-Q_wFW24-"
      }
    },
    {
      "cell_type": "markdown",
      "source": [
        "Nota: Hay una relación entre $M$ y la cantidad $x$ aceptada"
      ],
      "metadata": {
        "id": "vsA0_RXQq97Q"
      }
    },
    {
      "cell_type": "markdown",
      "source": [
        "Para este caso con $50000$ iteraciones se espera una aceptacion de alrededor de $25000$, pues $M=0.5$"
      ],
      "metadata": {
        "id": "PUuCrIfarie1"
      }
    },
    {
      "cell_type": "code",
      "source": [
        "print (len(exp))"
      ],
      "metadata": {
        "colab": {
          "base_uri": "https://localhost:8080/"
        },
        "id": "6LT1G7j1jntf",
        "outputId": "2ebc6daa-eeba-414c-c24a-af6484f16332",
        "collapsed": true
      },
      "execution_count": 26,
      "outputs": [
        {
          "output_type": "stream",
          "name": "stdout",
          "text": [
            "24697\n"
          ]
        }
      ]
    }
  ]
}
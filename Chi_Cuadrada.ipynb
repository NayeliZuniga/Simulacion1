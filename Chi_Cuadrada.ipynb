{
  "nbformat": 4,
  "nbformat_minor": 0,
  "metadata": {
    "colab": {
      "provenance": [],
      "authorship_tag": "ABX9TyNNYwXhfxI4tJWmzQ+7H6RQ",
      "include_colab_link": true
    },
    "kernelspec": {
      "name": "python3",
      "display_name": "Python 3"
    },
    "language_info": {
      "name": "python"
    }
  },
  "cells": [
    {
      "cell_type": "markdown",
      "metadata": {
        "id": "view-in-github",
        "colab_type": "text"
      },
      "source": [
        "<a href=\"https://colab.research.google.com/github/NayeliZuniga/Simulacion1/blob/main/Chi_Cuadrada.ipynb\" target=\"_parent\"><img src=\"https://colab.research.google.com/assets/colab-badge.svg\" alt=\"Open In Colab\"/></a>"
      ]
    },
    {
      "cell_type": "markdown",
      "source": [
        "Código en Python que implemente la **Prueba de Forma Chi-Cuadrada** para números aleatorios. Como pruebe, use los datos del ejercicio realizado en la clase correspondiente."
      ],
      "metadata": {
        "id": "FQYPqwMWP9qP"
      }
    },
    {
      "cell_type": "markdown",
      "source": [
        "**Matriz de valores criticos** de 90,95,98 y 99 de aceptacion con hasta 15 grados de libertad"
      ],
      "metadata": {
        "id": "F4BxXw4SCF1_"
      }
    },
    {
      "cell_type": "code",
      "source": [
        "import numpy as np\n",
        "import scipy.stats as stats\n",
        "\n",
        "ns = [.10, .05, .02, .01]                       #nivel de significancia\n",
        "gl = [1,2,3,4,5,6,7,8,9,10,11,12,13,14,15]      #grados de libertad\n",
        "\n",
        "matriz_chi2 = np.zeros((len(gl), len(ns)))\n",
        "\n",
        "for i, df in enumerate(gl):\n",
        "    for j, alpha in enumerate(ns):\n",
        "        matriz_chi2[i, j] = stats.chi2.ppf(1 - alpha, df)\n"
      ],
      "metadata": {
        "id": "1puajFwo7pHG"
      },
      "execution_count": null,
      "outputs": []
    },
    {
      "cell_type": "markdown",
      "source": [
        "**Función Chi Cuadrada**"
      ],
      "metadata": {
        "id": "w2vWbCAEFKg0"
      }
    },
    {
      "cell_type": "code",
      "execution_count": null,
      "metadata": {
        "id": "95hl7GdoPrw5"
      },
      "outputs": [],
      "source": [
        "def ChiCuadrada(lista, k, na):       # k:clases;  vc:valor critico,   na:nivel de aceptación en porciento\n",
        "  Fe=len(lista)/k\n",
        "  Fo=[]\n",
        "  chi=0\n",
        "  alpha=(100-na)/100\n",
        "                                    #leer el nivel de aceptación solicitado\n",
        "  if alpha==0.1:\n",
        "    alp=0\n",
        "  elif alpha==0.05:\n",
        "    alp=1\n",
        "  elif alpha==0.02:\n",
        "    alp=2\n",
        "  else:\n",
        "    alp=3\n",
        "\n",
        "  vc = matriz_chi2[k-2, alp]        #llamar al valor critico correspondiente\n",
        "\n",
        "  for l in range(k):\n",
        "    c=0\n",
        "    for i in range(len(lista)):\n",
        "      if ((1/k)*(l))<=lista[i] and lista[i]<((1/k)*(l+1)):      #Rango inferior y superior de la clase \"l\"\n",
        "        c+=1                                                    #contador para los elementos en la clase \"l\"\n",
        "    Fo.append(c)\n",
        "\n",
        "  for i in range(len(Fo)):\n",
        "    x=((Fo[i]-Fe)**2)/Fe\n",
        "    chi+=x                                                      #Estadistico\n",
        "\n",
        "  if chi < vc:                                                  #Criterio de validación\n",
        "    return \"No se rechaza la hipotesis nula de que sea una distribucion uniforme\"\n",
        "  else:\n",
        "    return \"Se rechaza la hipotesis nula de que sea una distribución uniforme\""
      ]
    },
    {
      "cell_type": "markdown",
      "source": [
        "**Ejemplos**"
      ],
      "metadata": {
        "id": "oHpXuE2Brb-i"
      }
    },
    {
      "cell_type": "code",
      "source": [
        "lista=[0.048, .926, .368, .787, .298,\n",
        "    .591, .007, .437, .594, .199,\n",
        "    .478, .551, .178, .086, .157,\n",
        "    .166, .362, .411, .951, .401,\n",
        "    .932, .533, .545, .772, .631]\n",
        "\n",
        "ChiCuadrada(lista,5,95)"
      ],
      "metadata": {
        "colab": {
          "base_uri": "https://localhost:8080/",
          "height": 35
        },
        "id": "VVY0UP8kYeOY",
        "outputId": "01debe81-1d9d-42f3-830a-f47baeab1a22"
      },
      "execution_count": null,
      "outputs": [
        {
          "output_type": "execute_result",
          "data": {
            "text/plain": [
              "'No se rechaza la hipotesis nula de que sea una distribucion uniforme'"
            ],
            "application/vnd.google.colaboratory.intrinsic+json": {
              "type": "string"
            }
          },
          "metadata": {},
          "execution_count": 3
        }
      ]
    },
    {
      "cell_type": "code",
      "source": [
        "numeros=[\n",
        "    0.78961, 0.05230, 0.10699, 0.55877, 0.14151, 0.76086, 0.12079, 0.27738, 0.65726, 0.79269,\n",
        "    0.80548, 0.82654, 0.29453, 0.20852, 0.42989, 0.58518, 0.98611, 0.34488, 0.34358, 0.11537,\n",
        "    0.89898, 0.57880, 0.67621, 0.05010, 0.00121, 0.28269, 0.73059, 0.70119, 0.18284, 0.49962,\n",
        "    0.38618, 0.76910, 0.68334, 0.55170, 0.10850, 0.79982, 0.45679, 0.21631, 0.87616, 0.55743,\n",
        "    0.58962, 0.33216, 0.03185, 0.61168, 0.09264, 0.69623, 0.17028, 0.05475, 0.91512, 0.76262,\n",
        "    0.29931, 0.30861, 0.83358, 0.51781, 0.03272, 0.57410, 0.26593, 0.85903, 0.43398, 0.35286,\n",
        "    0.24000, 0.65559, 0.38507, 0.90829, 0.94187, 0.93655, 0.88809, 0.81772, 0.36982, 0.19904,\n",
        "    0.54325, 0.62400, 0.09133, 0.41678, 0.33954, 0.58244, 0.85853, 0.88752, 0.33729, 0.15506,\n",
        "    0.23949, 0.53559, 0.33381, 0.49383, 0.75103, 0.19962, 0.65002, 0.74579, 0.79113, 0.63453,\n",
        "    0.19147, 0.40644, 0.08128, 0.73435, 0.22724, 0.22287, 0.07281, 0.64183, 0.44267, 0.72102\n",
        "]\n",
        "ChiCuadrada(numeros,5,95)"
      ],
      "metadata": {
        "colab": {
          "base_uri": "https://localhost:8080/",
          "height": 35
        },
        "id": "KmJrwNGFAuYJ",
        "outputId": "79244452-f7f5-4d26-c29f-6198af0477f3"
      },
      "execution_count": null,
      "outputs": [
        {
          "output_type": "execute_result",
          "data": {
            "text/plain": [
              "'No se rechaza la hipotesis nula de que sea una distribucion uniforme'"
            ],
            "application/vnd.google.colaboratory.intrinsic+json": {
              "type": "string"
            }
          },
          "metadata": {},
          "execution_count": 4
        }
      ]
    }
  ]
}
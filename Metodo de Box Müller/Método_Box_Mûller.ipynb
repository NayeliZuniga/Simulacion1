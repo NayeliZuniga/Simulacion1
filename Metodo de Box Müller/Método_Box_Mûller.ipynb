{
  "nbformat": 4,
  "nbformat_minor": 0,
  "metadata": {
    "colab": {
      "provenance": []
    },
    "kernelspec": {
      "name": "python3",
      "display_name": "Python 3"
    },
    "language_info": {
      "name": "python"
    }
  },
  "cells": [
    {
      "cell_type": "markdown",
      "source": [
        "Box y Mûller (1958)\n",
        "Box, G.E.P. y Mûller, M.E. (1958)\\\n",
        "A note on the generation of random normal deviates. Annals of Mathematical Statics, 29, 610-611"
      ],
      "metadata": {
        "id": "pHEhRb9A7N_n"
      }
    },
    {
      "cell_type": "markdown",
      "source": [
        "Caracteristicas:\n",
        "* Es el mejor metodo para generacion de normales\n",
        "* Devuelve dos numeros con distribucion normal\n",
        "* Proporciona mayor precision que otros métodos asi como una velocidad más favorable de ejecución\n",
        "* Puede utilizarse en computadoras pequeñas y grandes.\n",
        "* Genera un **par de desviaciones aleatorias de la misma distribución normal**\n",
        "* Independencia entre $x_1$ y $x_2$\n",
        "* Confiable en las colas de la distribución"
      ],
      "metadata": {
        "id": "7CtWMnI5QyBX"
      }
    },
    {
      "cell_type": "markdown",
      "source": [
        "Consideraciones:\n",
        "* La densidad de probabilidad de f(x_1,x_2) es constante en circulos\n",
        " $\\theta =arctan\\frac{x_2}{x_1}$ se distribuye $U(0,2\\pi)$\n",
        " Asi $-2lnU\\sim \\Xi^2_2$"
      ],
      "metadata": {
        "id": "L5h17zZFUpWe"
      }
    },
    {
      "cell_type": "markdown",
      "source": [
        "Desarrollo:\n",
        "$\n",
        "  \\text{Sean } U_1, U_2 \\sim U(0,1)\\\\\n",
        "  x_1=(-2 ln U_1)^{\\frac{1}{2}} cos(2\\pi U_2)\\\\\n",
        "  x_2=(-2 ln U_1)^{\\frac{1}{2}} sen(2\\pi U_2)\\\\\n",
        "  \\text{Despejando}\\\\\n",
        "  U_1=e\\frac{-(x_1^2+x_2^2)}{2}\\\\\n",
        "  U_2=-\\frac{1}{2\\pi}arctan\\frac{x_2}\n",
        "  {x_1}\\\\\n",
        "  \\text{Luego, la densidad conjunta}\\\\\n",
        "  f(x_1,x_2)=\\frac{1}{2\\pi}e\\frac{-(x_1+x_2)}{2}=\\frac{1}{\\sqrt{2\\pi}}e\\frac{-x_1^2}{2}\\cdot \\frac{1}{\\sqrt{2\\pi}}e\\frac{-x_2^2}{2}=f(x_1)f(x_2)\n",
        "$"
      ],
      "metadata": {
        "id": "sUs2ftUSRiDg"
      }
    },
    {
      "cell_type": "markdown",
      "source": [
        "Metodo:"
      ],
      "metadata": {
        "id": "lLDp5HkxSDgg"
      }
    },
    {
      "cell_type": "markdown",
      "source": [
        "1. Generar $U_1,U_2 \\sim U(0,1)$\n",
        "2. Hacer \\\n",
        "$R=\\sqrt{-2 ln U_1}$\\\n",
        "$\\theta =2\\pi U_2$\n",
        "3. Hacer $X=Rcos\\theta \\quad Y=Rsen\\theta$\n",
        "4. Salir $X,Y\\sim N(0,1)$"
      ],
      "metadata": {
        "id": "fVeWaWPc7zau"
      }
    },
    {
      "cell_type": "code",
      "execution_count": null,
      "metadata": {
        "id": "PQaNDR5ReLEL"
      },
      "outputs": [],
      "source": [
        "# Importar las librerias necesarias\n",
        "import random as rd\n",
        "import numpy as np\n",
        "import matplotlib.pyplot as plt"
      ]
    },
    {
      "cell_type": "code",
      "source": [
        "#Función para incorporar los X y Y generados\n",
        "def aceptacion(n):\n",
        " lista=[]                       #Lista dnd se guardan\n",
        " for _ in range(n):             # n pares generados\n",
        "  U_1=rd.random()               # Aleatorios uniformes\n",
        "  U_2=rd.random()\n",
        "  R= np.sqrt((-2)*np.log(U_1))   #Variables para simplificacion\n",
        "  theta=2*np.pi*U_2\n",
        "  lista.append(R*np.cos(theta))   #X_1 y X_2 intercalados en la lista\n",
        "  lista.append(R*np.sin(theta))\n",
        " return lista"
      ],
      "metadata": {
        "id": "xlecBRdueNu-"
      },
      "execution_count": null,
      "outputs": []
    },
    {
      "cell_type": "code",
      "source": [
        "exp=aceptacion(50000)"
      ],
      "metadata": {
        "id": "c_nz3VlNgmoQ"
      },
      "execution_count": null,
      "outputs": []
    },
    {
      "cell_type": "markdown",
      "source": [
        "Histograma"
      ],
      "metadata": {
        "id": "4QTevAXTqb2m"
      }
    },
    {
      "cell_type": "code",
      "source": [
        "plt.hist(exp, bins=100)\n",
        "plt.show()"
      ],
      "metadata": {
        "colab": {
          "base_uri": "https://localhost:8080/",
          "height": 430
        },
        "collapsed": true,
        "id": "tQJon-5vgtPp",
        "outputId": "af57d1d2-0df7-4a3b-955e-beb8121d3d9c"
      },
      "execution_count": null,
      "outputs": [
        {
          "output_type": "display_data",
          "data": {
            "text/plain": [
              "<Figure size 640x480 with 1 Axes>"
            ],
            "image/png": "[encoded data removed]"
          },
          "metadata": {}
        }
      ]
    },
    {
      "cell_type": "markdown",
      "source": [
        "Media"
      ],
      "metadata": {
        "id": "o8LnlmE_qjqL"
      }
    },
    {
      "cell_type": "code",
      "source": [
        "print(np.mean(exp))"
      ],
      "metadata": {
        "colab": {
          "base_uri": "https://localhost:8080/"
        },
        "id": "XwJVAG69h5tt",
        "outputId": "13a1fe07-f7d2-4463-8d60-3c06316e7b88"
      },
      "execution_count": null,
      "outputs": [
        {
          "output_type": "stream",
          "name": "stdout",
          "text": [
            "0.000971426787074432\n"
          ]
        }
      ]
    },
    {
      "cell_type": "markdown",
      "source": [
        "Desviación estandar"
      ],
      "metadata": {
        "id": "4Vmhleq_qnBw"
      }
    },
    {
      "cell_type": "code",
      "source": [
        "print(np.std(exp))"
      ],
      "metadata": {
        "colab": {
          "base_uri": "https://localhost:8080/"
        },
        "id": "cME69-fMhwda",
        "outputId": "14ecf248-99b9-4107-bc27-69ee086c8d60"
      },
      "execution_count": null,
      "outputs": [
        {
          "output_type": "stream",
          "name": "stdout",
          "text": [
            "1.0019561455560413\n"
          ]
        }
      ]
    }
  ]
}